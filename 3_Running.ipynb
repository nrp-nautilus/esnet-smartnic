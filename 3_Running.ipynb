{
 "cells": [
  {
   "cell_type": "markdown",
   "id": "d1ec4cfa-7021-4ead-bd14-1db7b86eaa32",
   "metadata": {},
   "source": [
    "## Running (Notebook 3/3): Running SmartNIC Logic on the FPGA\n",
    "\n",
    "This notebook is **Part 3** of the **ESnet SmartNIC Tutorial on NRP** series. It continues from **Notebook 2** to provide an example for building the FPGA logic from our SmartNIC P4 code.\n",
    "\n",
    "---\n",
    "\n",
    "### Test Environment\n",
    "\n",
    "This notebook was tested on the **National Research Platform (NRP)** using the **AMD/Xilinx Alveo U55C FPGA** and **Vivado 2023.1**. The Kubernetes pods were provisioned by [Coder](https://coder.nrp-nautilus.io).\n",
    "\n",
    "If you run into any issues, please refer to the official [NRP Documentation](https://docs.nrp.ai), or reach out to us via [Matrix](https://element.nrp-nautilus.io) or [email](mailto:support@nationalresearchplatform.org).\n",
    "\n",
    "Before using the ESnet SmartNIC tools, kindly review the official [ESnet SmartNIC Copyright Notice](https://github.com/esnet/esnet-smartnic-hw).\n",
    "\n",
    "---"
   ]
  },
  {
   "cell_type": "markdown",
   "id": "641204b9-cd47-4321-9c19-7e2c41d0020f",
   "metadata": {},
   "source": [
    "This notebook doesn't require Vivado or special software."
   ]
  },
  {
   "cell_type": "markdown",
   "id": "ee7a823a-789e-4ca8-be66-9e1c261cc772",
   "metadata": {},
   "source": [
    "### Step 1: Acquiring the artifcats"
   ]
  },
  {
   "cell_type": "markdown",
   "id": "4368de1e-09b5-4da5-acc3-5c119679f0fe",
   "metadata": {},
   "source": [
    "You can start directly from this notebook if you have different development and deployment environments and already have the artifacts"
   ]
  },
  {
   "cell_type": "code",
   "execution_count": null,
   "id": "51939e05-4262-4bd8-bff4-d20fc231569b",
   "metadata": {
    "scrolled": true
   },
   "outputs": [],
   "source": [
    "echo \"$BASH_VERSION\""
   ]
  },
  {
   "cell_type": "markdown",
   "id": "4e52666f-a416-418e-87c1-84e69df7a35d",
   "metadata": {},
   "source": [
    "If the above command doesn't show a bash version, **you may be running with a Python kernel. Please switch to a Bash kernel.**"
   ]
  },
  {
   "cell_type": "code",
   "execution_count": null,
   "id": "9e818fc0-bf74-4832-b6e6-aee55ecef844",
   "metadata": {},
   "outputs": [],
   "source": [
    "cd ~/esnet-smartnic/esnet-smartnic-hw/examples/p4_only/artifacts/p4_only\n",
    "ls"
   ]
  },
  {
   "cell_type": "code",
   "execution_count": null,
   "id": "9eb007a8-3f59-498d-99fe-80e7baca4f1c",
   "metadata": {},
   "outputs": [],
   "source": [
    "cp artifacts.u55c.p4_only.0.zip to ~/artifacts.u55c.p4_only.0.zip"
   ]
  },
  {
   "cell_type": "markdown",
   "id": "6403167e-8af5-4113-8a6f-260d5d47207b",
   "metadata": {},
   "source": [
    "You should see your artifacts here."
   ]
  },
  {
   "cell_type": "markdown",
   "id": "0936a922-a27e-49cf-ad9f-47289083a09a",
   "metadata": {},
   "source": [
    "For the sake of demonstration, we will be using an artifacts zip file that we have made publicly available.\n",
    "**Please note that the artifacts use an evaluation license and will only work for 48 hours.** As a best practice, **always build fresh.** The way this issue materializes is with a SmartNIC that drops 100% of the packets, and stuck DPDK counters."
   ]
  },
  {
   "cell_type": "code",
   "execution_count": null,
   "id": "ca580227-a569-4658-b92c-8f83ce1a160d",
   "metadata": {},
   "outputs": [],
   "source": [
    "cd ~/\n",
    "wget \"https://nextcloud.nrp-nautilus.io/s/5LmLADJtNKmTYSp/download\" -O \"artifacts.au55c.p4_only.0.zip\" "
   ]
  },
  {
   "cell_type": "markdown",
   "id": "b23c2bb6-7577-4851-9edc-97903d3b0360",
   "metadata": {},
   "source": [
    "### Step 2: Setting up Docker"
   ]
  },
  {
   "cell_type": "code",
   "execution_count": null,
   "id": "9cbf7735-3ad3-42c3-a0aa-f095f8ce55a8",
   "metadata": {
    "scrolled": true
   },
   "outputs": [],
   "source": [
    "docker image ls"
   ]
  },
  {
   "cell_type": "markdown",
   "id": "5c70a3f8-c5bc-4cec-9fce-84245a1b67d8",
   "metadata": {},
   "source": [
    "The `ESnet SmartNIC` stack requires 3 Docker images:\n",
    "\n",
    "1. **esnet-smartnic-fw**: The firmware image, requires the artifacts zip file (built for every logic).  \n",
    "   Repo: [esnet-smartnic-fw](https://github.com/esnet/esnet-smartnic-fw)\n",
    "\n",
    "2. **smartnic-dpdk-docker**: A containerized DPDK with `pktgen`, patched and built for Alveo FPGAs. Consistent for all FPGA models. Build once, pull, and run everywhere.  \n",
    "   Repo: [smartnic-dpdk-docker](https://github.com/esnet/smartnic-dpdk-docker)\n",
    "\n",
    "3. **xilinx-labtools-docker**: A Vivado Lab image that provides tools for flashing the cards. Consistent for all FPGA models. Build once, pull, and run everywhere.  \n",
    "   Repo: [xilinx-labtools-docker](https://github.com/esnet/xilinx-labtools-docker)\n"
   ]
  },
  {
   "cell_type": "markdown",
   "id": "f1c456e0-f5a0-43e9-a331-db48b1a12892",
   "metadata": {},
   "source": [
    "We have provided publicly hosted versions of the `smartnic-dpdk-docker` and `xilinx-labtools-docker` images. These images are hosted on our community gitlab ([gitlab.nrp-nautilus.io](https://gitlab.nrp-nautilus.io)) in repositories. **The versions are not universal, the images with the latest tag are the ones tested with the versions of esnet-smartnic-hw and esnet-smartnic-fw that we refer to in most recent docs and notebooks.**"
   ]
  },
  {
   "cell_type": "code",
   "execution_count": null,
   "id": "dcca35cc-b1d5-493d-8e5f-6d242bd47597",
   "metadata": {},
   "outputs": [],
   "source": [
    "docker pull gitlab-registry.nrp-nautilus.io/esnet/xilinx-labtools-docker\n",
    "docker tag gitlab-registry.nrp-nautilus.io/esnet/xilinx-labtools-docker xilinx-labtools-docker:${USER}-dev\n",
    "\n",
    "docker pull gitlab-registry.nrp-nautilus.io/esnet/smartnic-dpdk-docker\n",
    "docker tag gitlab-registry.nrp-nautilus.io/esnet/smartnic-dpdk-docker smartnic-dpdk-docker:${USER}-dev\n"
   ]
  },
  {
   "cell_type": "code",
   "execution_count": null,
   "id": "29b5ada5-d188-4bb9-8888-160d01fd502a",
   "metadata": {},
   "outputs": [],
   "source": [
    "docker image ls"
   ]
  },
  {
   "cell_type": "code",
   "execution_count": null,
   "id": "224b10db-b480-4e46-9078-255c841dea82",
   "metadata": {},
   "outputs": [],
   "source": [
    "whoami"
   ]
  },
  {
   "cell_type": "markdown",
   "id": "5dc740d2-714d-4f9b-953b-40691dad06d6",
   "metadata": {},
   "source": [
    "### Step 3: Prep the `esnet-smartnic-fw` repo"
   ]
  },
  {
   "cell_type": "markdown",
   "id": "8a916142-c046-4cb6-9b4f-f586efbc0626",
   "metadata": {},
   "source": [
    "The last step is building the `esnet-smartnic-fw` image."
   ]
  },
  {
   "cell_type": "code",
   "execution_count": null,
   "id": "740e1b1e-e6e0-41a9-859f-2156e39707ac",
   "metadata": {},
   "outputs": [],
   "source": [
    "pwd"
   ]
  },
  {
   "cell_type": "code",
   "execution_count": null,
   "id": "b3199dee-5871-443c-a49f-8de68282745b",
   "metadata": {},
   "outputs": [],
   "source": [
    "cd ~/esnet-smartnic && \\\n",
    "git clone https://github.com/esnet/esnet-smartnic-fw.git && \\\n",
    "cd esnet-smartnic-fw && \\\n",
    "git checkout c064d4ac775ed1a4c50ec72dea3615f9c644433e && \\\n",
    "git submodule update --init --recursive && \\\n",
    "ls"
   ]
  },
  {
   "cell_type": "markdown",
   "id": "5f742f76-51c3-42ec-9b48-7394c8b16264",
   "metadata": {},
   "source": [
    "**Copy the artifacts to sn-hw without renaming.**"
   ]
  },
  {
   "cell_type": "code",
   "execution_count": null,
   "id": "2f84874e-5cd9-4232-9acc-84f87af56122",
   "metadata": {},
   "outputs": [],
   "source": [
    "cp ~/artifacts.au55c.p4_only.0.zip sn-hw/\n",
    "ls sn-hw"
   ]
  },
  {
   "cell_type": "markdown",
   "id": "4dcedb2e-0606-45b6-91a3-68689c32c3d6",
   "metadata": {},
   "source": [
    "`artifacts` is a prefix all `hw` artifacts start with.\n",
    "\n",
    "`au55c` is the board model (U55C). For U280, it would be `au280`.\n",
    "\n",
    "`p4_only` is the name of the example we built. Had we built our own, it would've had a name we specified.\n",
    "\n",
    "`0` is the version. Specified in the Makefile.."
   ]
  },
  {
   "cell_type": "markdown",
   "id": "3241d701-99cb-487f-be7f-7c15697a2a8c",
   "metadata": {},
   "source": [
    "### Step 4: Building the docker image"
   ]
  },
  {
   "cell_type": "markdown",
   "id": "af30b46a-fc5b-40a9-a446-b52b7677b495",
   "metadata": {},
   "source": [
    "The root director of the repo requires a correctly filled `.env` file."
   ]
  },
  {
   "cell_type": "code",
   "execution_count": null,
   "id": "c3cfb84e-aac0-4338-b308-390c1efaaa31",
   "metadata": {},
   "outputs": [],
   "source": [
    "cat example.env | grep -i required -A 4"
   ]
  },
  {
   "cell_type": "code",
   "execution_count": null,
   "id": "c1dc79d4-29dd-4003-ae85-a7f01a0ef64c",
   "metadata": {},
   "outputs": [],
   "source": [
    "cat <<EOL > .env\n",
    "SN_HW_APP_NAME=p4_only\n",
    "SN_HW_BOARD=au55c\n",
    "SN_HW_VER=0\n",
    "EOL"
   ]
  },
  {
   "cell_type": "code",
   "execution_count": null,
   "id": "efe21843-2ce5-4ebe-90dd-c831852990a5",
   "metadata": {},
   "outputs": [],
   "source": [
    "cat .env"
   ]
  },
  {
   "cell_type": "markdown",
   "id": "0502fd60-77af-49ee-b1e8-3b93912d91ae",
   "metadata": {},
   "source": [
    "Now we can build the image with `./build.sh`. This might take ~30-40 minutes."
   ]
  },
  {
   "cell_type": "code",
   "execution_count": null,
   "id": "7a364e6b-9ead-457f-a25f-7e9f418a7dd9",
   "metadata": {
    "scrolled": true
   },
   "outputs": [],
   "source": [
    "./build.sh"
   ]
  },
  {
   "cell_type": "code",
   "execution_count": null,
   "id": "a128a599-5b84-40e9-bc2c-6f98fde258db",
   "metadata": {},
   "outputs": [],
   "source": [
    "docker image ls"
   ]
  },
  {
   "cell_type": "markdown",
   "id": "b70efda7-20a9-46fa-b84f-e05e2c68085f",
   "metadata": {},
   "source": [
    "### Step 5: Configuring the environment for the stack"
   ]
  },
  {
   "cell_type": "markdown",
   "id": "25ad854a-fe0f-4202-8493-56297a20109f",
   "metadata": {},
   "source": [
    "The stack with the docker compose profile is in the `sn-stack` directory."
   ]
  },
  {
   "cell_type": "code",
   "execution_count": null,
   "id": "2325b102-532d-4e99-82c2-da0732a824f1",
   "metadata": {},
   "outputs": [],
   "source": [
    "cd sn-stack && \\\n",
    "cat example.env"
   ]
  },
  {
   "cell_type": "markdown",
   "id": "854b4d61-953d-4ade-ad5a-f305f53185f1",
   "metadata": {},
   "source": [
    "Similar to the root directory, the `sn-stack` directory requires a `.env` file correctly populated. There are three main environment variables that are needed for the stack to work:\n",
    "\n",
    "1- The PCI bus address for the FPGA (this is always needed).\n",
    "\n",
    "2- The USB iSerial for the correct FPGA (this is needed in a multi-FPGA scenario).\n",
    "\n",
    "3- The profile to run in. In this experiment, we are running in `smartnic-mgr-vfio-unlock`, which allows us to use the smartnic directly without it being locked by DPDK and pktgen."
   ]
  },
  {
   "cell_type": "markdown",
   "id": "adcc9b92-28fd-4b81-b3dd-3183ae46bb6b",
   "metadata": {},
   "source": [
    "The command below gets us the list of all Xilinx pci devices that the pod sees. We pick the FPGA we want. Normally, users would reserve the FPGAs per node."
   ]
  },
  {
   "cell_type": "code",
   "execution_count": null,
   "id": "3612a255-f22d-4fb9-9d64-4f3c40911780",
   "metadata": {},
   "outputs": [],
   "source": [
    "lspci -d 10ee:"
   ]
  },
  {
   "cell_type": "markdown",
   "id": "92f529a2-1070-4dfa-9223-81645e212b1e",
   "metadata": {},
   "source": [
    "The command below lists all USB devices with an iSerial, and looks for the iSerial starting with XF. You might get multiple results, for the mapping, please contact us.\n",
    "\n",
    "**This works on our systems because the only USB devices with a serial number are the JTAG connections, but for different systems, there may be more USB connections, please carefully go through lsusb -vvv to get the correct device.**"
   ]
  },
  {
   "cell_type": "code",
   "execution_count": null,
   "id": "2fded82b-a09b-42af-beb9-cc6bb56337e6",
   "metadata": {},
   "outputs": [],
   "source": [
    "sudo lsusb -vvv | grep -i iserial | grep -i XF"
   ]
  },
  {
   "cell_type": "code",
   "execution_count": null,
   "id": "daa15f62-3c77-4a67-8457-7515c4a72e7c",
   "metadata": {},
   "outputs": [],
   "source": [
    "cat <<EOL > .env\n",
    "FPGA_PCIE_DEV=0000:c1:00\n",
    "HW_TARGET_SERIAL=XFL1QYVIDV45A\n",
    "COMPOSE_PROFILES=smartnic-mgr-vfio-unlock\n",
    "EOL"
   ]
  },
  {
   "cell_type": "code",
   "execution_count": null,
   "id": "a223fb2a-6221-433b-9447-1d641fb8fa93",
   "metadata": {},
   "outputs": [],
   "source": [
    "docker compose up -d"
   ]
  },
  {
   "cell_type": "markdown",
   "id": "a51e46bc-e33b-4564-9d30-48888dffed9b",
   "metadata": {},
   "source": [
    "Now, our stack is up."
   ]
  },
  {
   "cell_type": "markdown",
   "id": "6771e1b7-22bb-4458-abf1-0e02338fec4d",
   "metadata": {},
   "source": [
    "This will show information about the device such as the build version, build date/time and temperature:"
   ]
  },
  {
   "cell_type": "code",
   "execution_count": null,
   "id": "9ad58add-a549-437a-a60c-3f8d575572bd",
   "metadata": {},
   "outputs": [],
   "source": [
    "docker compose exec smartnic-fw sn-cli dev version\n",
    "docker compose exec smartnic-fw sn-cli dev temp"
   ]
  },
  {
   "cell_type": "markdown",
   "id": "74623859-cae6-42f3-b849-379b1da53b37",
   "metadata": {},
   "source": [
    "The USR_ACCESS value is typically the unique build pipeline number that produced the embedded FPGA bitfile. The BUILD_STATUS value holds an encoded date/time (Aug 30 at 05:32am) which is when the embedded FPGA bitfile build was started. The DNA value holds the factory-programmed unique ID of the FPGA"
   ]
  },
  {
   "cell_type": "markdown",
   "id": "74c86cb5-3905-4ec4-b40c-0f46261a3c5f",
   "metadata": {},
   "source": [
    "The script below resets the names of the ports, sets up app0 and app0 port and routes all egress packets to the propoer egress. "
   ]
  },
  {
   "cell_type": "markdown",
   "id": "72fc6fe4-ecea-452a-ac11-bf35822e93d7",
   "metadata": {},
   "source": [
    "For more details about the commands and options, please check out the appendix (Appendix A) below."
   ]
  },
  {
   "cell_type": "code",
   "execution_count": null,
   "id": "ed9a06fb-0936-44db-a63a-fb9db9284fb6",
   "metadata": {},
   "outputs": [],
   "source": [
    "docker compose exec smartnic-fw bash -c '\n",
    "sn-cli dev version\n",
    "sn-cli sw in-port-rename cmac0:cmac0 cmac1:cmac1 host0:host0 host1:host1\n",
    "sn-cli sw app0-port-redirect cmac0:cmac0 cmac1:cmac1 host0:host0 host1:host1\n",
    "sn-cli sw app1-port-redirect cmac0:cmac0 cmac1:cmac1 host0:host0 host1:host1\n",
    "sn-cli sw bypass-connect cmac0:cmac0 cmac1:cmac1 host0:host0 host1:host1\n",
    "sn-cli sw in-port-connect cmac0:app0 cmac1:app0 host0:app0 host1:app0\n",
    "sn-cli sw status\n",
    "sn-cli qdma setqs 1 1\n",
    "sn-cli cmac enable\n",
    "sn-cli cmac status\n",
    "'"
   ]
  },
  {
   "cell_type": "code",
   "execution_count": null,
   "id": "35c43bf9-6f50-4a42-8e7e-147b5c9e9284",
   "metadata": {},
   "outputs": [],
   "source": [
    "docker compose exec smartnic-fw sn-cli dev temp"
   ]
  },
  {
   "cell_type": "code",
   "execution_count": null,
   "id": "e6aa6b78-53d3-4ed6-b9e8-7922c77b47ae",
   "metadata": {},
   "outputs": [],
   "source": [
    "docker compose exec smartnic-fw sn-cli probe stats"
   ]
  },
  {
   "cell_type": "code",
   "execution_count": null,
   "id": "63040a4c-d13d-44f6-b31e-c24b14b47df0",
   "metadata": {},
   "outputs": [],
   "source": [
    "docker compose exec smartnic-fw sn-p4-cli info"
   ]
  },
  {
   "cell_type": "code",
   "execution_count": null,
   "id": "bcd44e38-7a09-4fc3-a7b6-964876aedfe4",
   "metadata": {},
   "outputs": [],
   "source": [
    "docker compose exec smartnic-fw sn-p4-cli table-insert --help"
   ]
  },
  {
   "cell_type": "markdown",
   "id": "d77487a6-1204-4c62-b3c0-e4f8f081b3ac",
   "metadata": {},
   "source": [
    "### Step 6: Running DPDK"
   ]
  },
  {
   "cell_type": "markdown",
   "id": "1fb366b7-86cc-45db-8c84-0f4de58d50e9",
   "metadata": {},
   "source": [
    "**Always make sure the stack is down before changing profiles.**"
   ]
  },
  {
   "cell_type": "code",
   "execution_count": null,
   "id": "a4722825-1c2f-4deb-b029-4d0e4a0dc3dd",
   "metadata": {},
   "outputs": [],
   "source": [
    "docker compose down"
   ]
  },
  {
   "cell_type": "code",
   "execution_count": null,
   "id": "8239ecc5-7ed6-4267-a6f6-6c65e6ccacc6",
   "metadata": {},
   "outputs": [],
   "source": [
    "cat <<EOL > .env\n",
    "FPGA_PCIE_DEV=0000:c1:00\n",
    "HW_TARGET_SERIAL=XFL1QYVIDV45A\n",
    "COMPOSE_PROFILES=smartnic-mgr-dpdk-manual\n",
    "EOL"
   ]
  },
  {
   "cell_type": "markdown",
   "id": "73e3b016-4001-4565-88ed-b7b31ddb9703",
   "metadata": {},
   "source": [
    "We bring the stack up with the correct profile for DPDK."
   ]
  },
  {
   "cell_type": "markdown",
   "id": "ec903bd1-034f-43eb-a417-f552dbf9d81e",
   "metadata": {},
   "source": [
    "Please note that running in the DPDK profile requries **re-running the setup script we used previously, and whenever pktgen is close, the card is locked and all registers return 0s and Fs.**"
   ]
  },
  {
   "cell_type": "code",
   "execution_count": null,
   "id": "a41c86a8-1a9b-4bb0-a93d-88cd1a8126cb",
   "metadata": {},
   "outputs": [],
   "source": [
    "docker compose up -d"
   ]
  },
  {
   "cell_type": "markdown",
   "id": "d46aab45-f691-44d1-a80e-e6bd16c40ead",
   "metadata": {},
   "source": [
    "**Please run pktgen in a terminal, otherwise it will hang.**"
   ]
  },
  {
   "cell_type": "markdown",
   "id": "8ca81d21-d4b7-4b4d-a993-b307c535d615",
   "metadata": {},
   "source": [
    "For more details about the commands and options, please check out the appendix (Appendix A) below."
   ]
  },
  {
   "cell_type": "code",
   "execution_count": null,
   "id": "5554829f-81ba-4551-9248-e6f0390af206",
   "metadata": {},
   "outputs": [],
   "source": [
    "##docker compose exec smartnic-dpdk pktgen -a $SN_PCIE_DEV.0 -a $SN_PCIE_DEV.1 -l 3-7 -n 3 -d librte_net_qdma.so --file-prefix $SN_PCIE_DEV- -- -v -m [4:5].0 -m [6:7].1"
   ]
  },
  {
   "cell_type": "markdown",
   "id": "ea642aae-c176-4573-85c5-96721a7a74db",
   "metadata": {},
   "source": [
    "**Always make sure the stack is down before finishing your work.**"
   ]
  },
  {
   "cell_type": "code",
   "execution_count": null,
   "id": "991307e5-9cef-48e7-9822-db897243181a",
   "metadata": {},
   "outputs": [],
   "source": [
    "docker compose down -v --remove-orphans"
   ]
  },
  {
   "cell_type": "markdown",
   "id": "c92c4c2e-f689-4743-951d-522f7bca5543",
   "metadata": {},
   "source": [
    "For more details about the commands and options, please check out the appendix (Appendix A) below."
   ]
  },
  {
   "cell_type": "markdown",
   "id": "10f995f2-cce1-472e-990e-8fe36068622c",
   "metadata": {},
   "source": [
    "### Appendix A: `sn-cli` and `pktgen` options and commands:"
   ]
  },
  {
   "cell_type": "markdown",
   "id": "8712e217-91a7-4e37-87ab-689bf0ccb0d4",
   "metadata": {},
   "source": [
    "#### Using the sn-cli tool\n",
    "\n",
    "The sn-cli tool provides subcommands to help you accomplish many common tasks for inspecting and configuring the smartnic platform components.\n",
    "\n",
    "All commands described below are expected to be executed within the `smartnic-fw` container environment. Use this command to enter the appropriate environment.\n",
    "```\n",
    "docker compose exec smartnic-fw bash\n",
    "```\n",
    "\n",
    "The `sn-cli` tool will automatically look for an environment variable called `SN_CLI_SLOTADDR` which can be set to the PCIe BDF address of the device that you would like to interact with. In the `smartnic-fw` container, this value will already be set for you.\n",
    "\n",
    "##### Displaying device information with the \"dev\" subcommand\n",
    "\n",
    "This will show information about the device such as the build version, build date/time, and temperature.\n",
    "\n",
    "```\n",
    "root@smartnic-fw:/# sn-cli dev version\n",
    "Device Version Info\n",
    "\tDNA:           0x40020000012306a21c10c285\n",
    "\tUSR_ACCESS:    0x000086d3 (34515)\n",
    "\tBUILD_STATUS:  0x04130920\n",
    "\n",
    "root@smartnic-fw:/# sn-cli dev temp\n",
    "Temperature Monitors\n",
    "\tFPGA SLR0:    45.551 (deg C)\n",
    "```\n",
    "The `USR_ACCESS` value is typically the unique build pipeline number that produced the embedded FPGA bitfile.  \n",
    "The `BUILD_STATUS` value holds an encoded date/time (Aug 30 at 05:32am) which is when the embedded FPGA bitfile build was started.  \n",
    "The `DNA` value holds the factory-programmed unique ID of the FPGA.\n",
    "\n",
    "##### Inspecting and Configuring the CMAC (100G) Interfaces with the \"cmac\" subcommand\n",
    "\n",
    "Enable/Disable one or more (or all by default) 100G MAC interfaces using these commands:\n",
    "\n",
    "```\n",
    "sn-cli cmac enable\n",
    "sn-cli cmac disable\n",
    "\n",
    "sn-cli cmac -p 0 enable\n",
    "sn-cli cmac -p 1 disable\n",
    "```\n",
    "Enabling a CMAC interface allows frames to pass (Rx/Tx) at the MAC layer. These commands **do not affect** whether the underlying physical layer (PHY) is operational.\n",
    "\n",
    "Display the current MAC and PHY status of one or more (or all by default) 100G MAC interfaces using these commands:\n",
    "\n",
    "```\n",
    "root@smartnic-fw:/# sn-cli cmac status\n",
    "CMAC0\n",
    "  Tx (MAC ENABLED/PHY UP)\n",
    "  Rx (MAC ENABLED/PHY UP)\n",
    "\n",
    "CMAC1\n",
    "  Tx (MAC ENABLED/PHY UP)\n",
    "  Rx (MAC ENABLED/PHY DOWN)\n",
    "```\n",
    "In the example output above, CMAC0 PHY layer is **UP** in both the Tx and Rx directions. The MAC is fully enabled. This link is operational and should be passing packets normally.\n",
    "\n",
    "In the example output above, CMAC1 PHY layer is **DOWN** in the Rx (receive) direction. Possible causes for this are:\n",
    "* No QSFP28 plugged into 100G port 0 the U280 card\n",
    "* Wrong type of QSFP28 module plugged into 100G port 0\n",
    "  * 100G QSFP28 SR4 or LR4 modules are supported\n",
    "  * Some 100G AOC or DACs are known to work\n",
    "  * QSFP+ 40G modules **are not supported**\n",
    "  * QSFP 5G modules **are not supported**\n",
    "* QSFP28 card improperly seated in the U280 card\n",
    "  * Check if the QSFP28 module is inserted upside down and physically blocked from being fully inserted\n",
    "  * Unplug/replug the module, ensuring that it is properly oriented and firmly seated\n",
    "* Fiber not properly inserted\n",
    "  * Unplug/replug the fiber connection at each end\n",
    "* Far end is operating in 4x25G or 2x50G split mode\n",
    "  * The smartnic platform **does not support** 4x25G or 2x50G mode\n",
    "  * Only 100G mode is supported on each of the U280 100G interfaces\n",
    "  * Configure far end in 100G mode\n",
    "* Far end has RS-FEC (Reed-Solomon Forward Error Correction) enabled\n",
    "  * The smartnic platform **does not support** RS-FEC\n",
    "  * Disable RS-FEC on the far end equipment\n",
    "\n",
    "A more detailed status can also be displayed using the `--verbose` option. Note that the `--verbose` option is a global option and thus must be positioned **before** the `cmac` subcommand.\n",
    "\n",
    "```\n",
    "root@smartnic-fw:/# sn-cli --verbose cmac -p 1 status\n",
    "CMAC1\n",
    "  Tx (MAC ENABLED/PHY UP)\n",
    "\t           tx_local_fault 0\n",
    "  Rx (MAC ENABLED/PHY DOWN)\n",
    "\t         rx_got_signal_os 0\n",
    "\t               rx_bad_sfd 0\n",
    "\t          rx_bad_preamble 0\n",
    "\t rx_test_pattern_mismatch 0\n",
    "\t  rx_received_local_fault 0\n",
    "\t  rx_internal_local_fault 1\n",
    "\t           rx_local_fault 1\n",
    "\t          rx_remote_fault 0\n",
    "\t                rx_hi_ber 0\n",
    "\t           rx_aligned_err 0\n",
    "\t            rx_misaligned 0\n",
    "\t               rx_aligned 0\n",
    "\t                rx_status 0\n",
    "```\n",
    "\n",
    "Display summary statistics for packets Rx'd and Tx'd from CMAC ports:\n",
    "\n",
    "```\n",
    "root@smartnic-fw:/# sn-cli cmac stats\n",
    "CMAC0: TX      0 RX      0 RX-DISC      0 RX-ERR      0\n",
    "CMAC1: TX      0 RX      0 RX-DISC      0 RX-ERR      0\n",
    "```\n",
    "Note: The CMAC counters are only cleared/reset when the FPGA is reprogrammed.\n",
    "\n",
    "##### Inspecting and Configuring the PCIe Queue DMA (QDMA) block with the \"qdma\" subcommand\n",
    "\n",
    "The QDMA block is responsible for managing all DMA queues used for transferring packets and/or events bidirectionally between the U280 card and the Host CPU over the PCIe bus. In order for any DMA transfers to be allowed on either of the PCIe Physical Functions (PF), an appropriate number of DMA Queue IDs must be provisioned. This can be done using the `qdma` subcommand.\n",
    "\n",
    "Configure the number of queues allocated to each of the PCIe Physical Functions:\n",
    "\n",
    "```\n",
    "sn-cli qdma setqs 1 1\n",
    "```\n",
    "This assigns 1 QID to PF0 and 1 QID to PF1. The `setqs` subcommand also takes care of configuring the RSS entropy -> QID map with an equal weighted distribution of all allocated queues. If you're unsure of how many QIDs to allocate, using `1 1` here is your best choice.\n",
    "\n",
    "Inspect the configuration of the QDMA block:\n",
    "\n",
    "```\n",
    "sn-cli qdma status\n",
    "```\n",
    "\n",
    "Packet, byte, and error counters are tracked for packets heading between the QDMA engine and the user application. You can display them with this command:\n",
    "\n",
    "```\n",
    "sn-cli qdma stats\n",
    "```\n",
    "Refer to the `open-nic-shell` documentation for an explanation of exactly where in the FPGA design these statistics are measured.\n",
    "\n",
    "##### Inspecting packet counters in the smartnic platform with the \"probe\" subcommand\n",
    "\n",
    "The smartnic platform implements monitoring points in the datapath at various locations. You can inspect these counters using this command:\n",
    "\n",
    "```\n",
    "sn-cli probe stats\n",
    "```\n",
    "Refer to the `esnet-smartnic-hw` documentation for an explanation of exactly where in the FPGA design these statistics are measured.\n",
    "\n",
    "##### Configuring the smartnic platform ingress/egress/bypass switch port remapping functions with the \"sw\" subcommand\n",
    "\n",
    "The smartnic platform implements reconfigurable ingress and egress port remapping, connections, and redirecting. You can inspect and modify these configuration points using the \"sw\" subcommand.\n",
    "\n",
    "Most of the `sw` subcommands take one or more port bindings as parameters. The port bindings are of the form:\n",
    "\n",
    "```\n",
    "<port>:<port-connector>\n",
    "```\n",
    "\n",
    "Where:\n",
    "* `<port>` is one of:\n",
    "  * cmac0  -- 100G port 0\n",
    "  * cmac1  -- 100G port 1\n",
    "  * host0  -- DMA over PCIe Physical Function 0 (PF0)\n",
    "  * host1  -- DMA over PCIe Physical Function 1 (PF1)\n",
    "* `<port-connector>` is context dependent and is one of:\n",
    "  * cmac0\n",
    "  * cmac1\n",
    "  * host0\n",
    "  * host1\n",
    "  * bypass -- a high bandwidth channel through the smartnic which does **NOT** pass through the user's application\n",
    "  * app0   -- user application port 0 (typically a p4 program ingress)\n",
    "  * app1   -- user application port 1 (only available when user implements it in verilog)\n",
    "  * drop   -- infinite blackhole that discards all packets sent to it\n",
    "\n",
    "##### Display the current configuration status\n",
    "```\n",
    "sn-cli sw status\n",
    "```\n",
    "\n",
    "##### Remap/rename physical input ports to logical input ports\n",
    "\n",
    "The `in-port-rename` subcommand allows you to remap the identity of a smartnic platform physical ingress port to any logical port as seen by the user logic.  Once remapped (eg. from `a`->`b`), all following logic in the smartnic will perceive that the packet arrived on ingress port `b` even though it physically arrived on port `a`.  This can be useful for test injection scenarios but would typically be set to a straight-through mapping in production.\n",
    "```\n",
    "sn-cli sw in-port-rename a:b\n",
    "```\n",
    "\n",
    "To reset this mapping so each port maps to its usual identity:\n",
    "```\n",
    "sn-cli sw in-port-rename cmac0:cmac0 cmac1:cmac1 host0:host0 host1:host1\n",
    "```\n",
    "\n",
    "##### Attach logical input ports to pipelines\n",
    "\n",
    "The `in-port-connect` subcommand allows you to connect a logical input port to different processing pipelines within the smartnic.  This can be used to connect to a p4 program or to custom logic within the user application.  It can also be used to shunt all packets to a blackhole or to bypass packets around the user application entirely.\n",
    "\n",
    "```\n",
    "sn-cli sw in-port-connect cmac0:app0 cmac1:app0 host0:bypass host1:bypass\n",
    "```\n",
    "\n",
    "##### Connect input ports to output ports in the bypass path\n",
    "\n",
    "The `bypass-connect` subcommand allows you to connect input ports directly to output ports as they pass through the bypass path (ie. not through the user application).  This is useful for providing direct connectivity from host PCIe PFs to 100G CMAC interfaces for network testing.\n",
    "\n",
    "```\n",
    "sn-cli sw bypass-connect host0:cmac0 host1:cmac1 cmac0:host0 cmac1:host1\n",
    "```\n",
    "\n",
    "**NOTE** any packets that follow the bypass path will not be processed by the user's p4 program\n",
    "\n",
    "##### Override user application output port decisions and redirect to an alternate port\n",
    "\n",
    "The `app0-port-redirect` and `app1-port-redirect` subcommands allow the user to override the forwarding decisions made by the user application and/or p4 program and redirect any given output port to a different output port.  This can be useful during development/debugging and in test fixtures.\n",
    "\n",
    "**NOTE** there are separate overrides for the app0 outputs and the app1 outputs.\n",
    "\n",
    "```\n",
    "sn-cli sw app0-port-redirect cmac0:host0 cmac1:host1\n",
    "sn-cli sw app1-port-redirect cmac0:host0 cmac1:host1\n",
    "```\n",
    "\n",
    "To reset this mapping so each output ports maps to its usual destination:\n",
    "```\n",
    "sn-cli sw app0-port-redirect cmac0:cmac0 cmac1:cmac1 host0:host0 host1:host1\n",
    "sn-cli sw app1-port-redirect cmac0:cmac0 cmac1:cmac1 host0:host0 host1:host1\n",
    "```\n",
    "\n",
    "#### Using the sn-p4-cli tool\n",
    "\n",
    "\n",
    "The user's p4 application embedded within the smartnic design may have configurable lookup tables which are used during the wire-speed execution of the packet processing pipeline.  The sn-p4-cli tool provides subcommands to help you to manage the rules in all of the lookup tables defined in your p4 program.\n",
    "\n",
    "All commands described below are expected to be executed within the `smartnic-fw` container environment.  Use this command to enter the appropriate environment.\n",
    "```\n",
    "docker compose exec smartnic-fw bash\n",
    "```\n",
    "\n",
    "The `sn-p4-cli` tool will automatically look for an environment variable called `SN_P4_CLI_SERVER` which can be set to the hostname of the `sn-p4-agent` that will perform all of the requested actions on the real hardware.  In the `smartnic-fw` container, this value will already be set for you.\n",
    "\n",
    "##### Inspecting the pipeline structure with the \"info\" subcommand\n",
    "\n",
    "The `info` subcommand is used to display the pipeline structure, including table names, match fields (and their types), action names and the list of parameters for each action.  This information can be used to formulate new rule definitions for the other subcommands.\n",
    "\n",
    "```\n",
    "sn-p4-cli info\n",
    "```\n",
    "\n",
    "##### Inserting a new rule into a table\n",
    "\n",
    "The `table-insert` subcommand allows you to insert a new rule into a specified table.\n",
    "\n",
    "```\n",
    "sn-p4-cli table-insert <table-name> <action-name> --match <match-expr> [--param <param-expr>] [--priority <prio-val>]\n",
    "```\n",
    "Where:\n",
    "* `<table-name>` is the name of the table to be operated on\n",
    "* `<action-name>` is the action that you would like to activate when this rule matches\n",
    "* `<match-expr>` is one or more match expressions which collectively define when this rule should match a given packet\n",
    "  * The number and type of the match fields depends on the p4 definition of the table\n",
    "  * The `--match` option may be specified multiple times and all `match-expr`s will be concatenated\n",
    "* `<param-expr>` is one or more parameter values which will be returned as a result when this rule matches a given packet\n",
    "  * The number and type of the action parameters depends on the p4 definition of the action within the table\n",
    "  * Some actions require zero parameters.  In this case, omit the optional `--param` option entirely.\n",
    "* `<prio-val>` is the priority to be used to resolve scenarios where multiple matches could occur\n",
    "  * The `--priority` option is *required* for tables with CAM/TCAM type matches (prefix/range/ternary)\n",
    "  * The `--priority` option is *prohibited* for tables without CAM/TCAM type mathes\n",
    "\n",
    "**NOTE**: You can find details about your pipeline structure and valid names by running the `info` subcommand.\n",
    "\n",
    "##### Updating an existing rule within a table\n",
    "\n",
    "The `table-update` subcommand allows you to update the action and parameters for an existing rule within a table\n",
    "\n",
    "```\n",
    "sn-p4-cli table-update <table-name> <new-action-name> --match <match-expr> [--param <new-param-expr>]\n",
    "```\n",
    "Where:\n",
    "* `<table-name>` is the table containing the rule to be updated\n",
    "* `<new-action-name>` is the new action that should be applied when this rule matches\n",
    "* `<match-expr>` is the exact original `<match-expr>` used when the original rule was inserted\n",
    "* `<new-param-expr>` is the set of new parameters to be returned when this rule matches\n",
    "  * **NOTE**: the new parameters must be consistent with the new action\n",
    "\n",
    "##### Removing previously inserted rules\n",
    "\n",
    "The `clear-all` and `table-clear` and `table-delete` subcommands allow you to remove rules from tables with varying precision.\n",
    "\n",
    "Clear all rules from *all tables* in the pipeline.\n",
    "```\n",
    "sn-p4-cli clear-all`\n",
    "```\n",
    "\n",
    "Clear all rules from a *single* specified table.\n",
    "```\n",
    "sn-p4-cli table-clear <table-name>\n",
    "```\n",
    "\n",
    "Remove a specific rule from a specific table.\n",
    "```\n",
    "table-delete <table-name> --match <match-expr>\n",
    "```\n",
    "\n",
    "##### Bulk changes of rules using a p4bm simulator rules file\n",
    "\n",
    "Using the the `p4bm-apply` subcommand, a list of pipeline modifications can be applied from a file.  A subset of the full p4bm simulator file format is supported by the `sn-p4-cli` command.\n",
    "\n",
    "```\n",
    "sn-p4-cli p4bm-apply <filename>\n",
    "```\n",
    "\n",
    "Supported actions within the p4bm file are:\n",
    "* `table_insert <table-name> <action-name> <match-expr> => <param-expr> [priority]`\n",
    "  * Insert a rule\n",
    "* `clear_all`\n",
    "  * Clear all rules from all tables\n",
    "* `table_clear <table-name>`\n",
    "  * Clear all rules from a specified table\n",
    "\n",
    "All comment characters `#` and text following them up to the end of the line are ignored.\n",
    "\n",
    "#### Stopping the runtime environment\n",
    "\n",
    "\n",
    "When we're finished using the smartnic runtime environment, we can stop and remove our docker containers.\n",
    "\n",
    "```\n",
    "docker compose down -v\n",
    "```\n",
    "\n",
    "### Using the smartnic-dpdk container\n",
    "\n",
    "\n",
    "The `sn-stack` environment can be started in a mode where the FPGA can be controlled by a DPDK application.  Running in this mode requires a few carefully ordered steps.\n",
    "\n",
    "Broadly speaking, the steps required to bring up a DPDK application are as follows:\n",
    "* Bind the `vfio-pci` kernel driver to each FPGA PCIe physical function (PF)\n",
    "  * This is handled automatically by the sn-stack.\n",
    "* Run a DPDK application with appropriate DPDK Environment Abstraction Layer (EAL) settings\n",
    "  * Use `-a $SN_PCIE_DEV.0` to allow control of one or more specific FPGA PCIe PFs\n",
    "  * Use `-d librte_net_qdma.so` to dynamically link the correct Userspace Polled-Mode Driver (PMD) for the smartnic QDMA engine\n",
    "  * The EAL will\n",
    "    * Open the PCIe PFs using the kernel's `vfio-pci` driver\n",
    "\t* Take the FPGA device out of reset\n",
    "\t* Open and map large memory regions for DMA using the kernel's `hugepages` driver\n",
    "  * The application is responsible for assigning buffers to one or more of the FPGA's DMA queues\n",
    "* Use the `sn-cli` tool to configure some of the low-level hardware components in the FPGA\n",
    "  * Configure the set of valid DMA queues in the FPGA (must match what is set in the DPDK application)\n",
    "  * Bring up the physical ethernet ports\n",
    "\n",
    "In the examples below, we will be running the `pktgen-dpdk` application to control packet tx/rx via the FPGA's PCIe physical functions.  This can be very useful for injecting packets into a design for testing behaviour on real hardware.\n",
    "\n",
    "For more information about DPDK in general, see:\n",
    "* http://core.dpdk.org/doc/\n",
    "\n",
    "For more information about the `pktgen-dpdk` application, see:\n",
    "* https://pktgen-dpdk.readthedocs.io/en/latest/index.html\n",
    "\n",
    "Before you bring up the `sn-stack`, please ensure that you have uncommented this line in your `.env` file\n",
    "```\n",
    "COMPOSE_PROFILES=smartnic-dpdk\n",
    "```\n",
    "\n",
    "If you changed this while the stack was already running, you'll need to restart the stack with down/up.\n",
    "\n",
    "First, you'll need to start up the `pktgen` application to open the vfio-pci device for PF0 and PF1 and take the FPGA out of reset.\n",
    "```\n",
    "$ docker compose exec smartnic-dpdk bash\n",
    "root@smartnic-dpdk:/# pktgen -a $SN_PCIE_DEV.0 -a $SN_PCIE_DEV.1 -l 4-8 -n 4 -d librte_net_qdma.so --file-prefix $SN_PCIE_DEV- -- -v -m [5:6].0 -m [7:8].1\n",
    "Pktgen:/> help\n",
    "```\n",
    "NOTE: Leave this application running while doing the remaining setup steps.  The setup steps below must be re-run after each time you restart the pktgen application since the FPGA gets reset between runs.\n",
    "\n",
    "Open a **separate** shell window which you will use for doing the low-level smartnic platform configuration.\n",
    "\n",
    "Configure the Queue mappings for host PF0 and PF1 interfaces and bring up the physical ethernet ports using the `smartnic-fw` container.\n",
    "\n",
    "```\n",
    "$ docker compose exec smartnic-fw bash\n",
    "root@smartnic-fw:/# sn-cli qdma setqs 1 1\n",
    "root@smartnic-fw:/# sn-cli qdma status\n",
    "root@smartnic-fw:/# sn-cli cmac enable\n",
    "root@smartnic-fw:/# sn-cli cmac status\n",
    "```\n",
    "Setting up the queue mappings tells the smartnic platform which QDMA queues to use for h2c and c2h packets.  Enabling the CMACs allows Rx and Tx packets to flow (look for `MAC ENABLED/PHY UP`).\n",
    "\n",
    "\n",
    "### Advanced usage of the pktgen-dpdk application\n",
    "\n",
    "\n",
    "Example of streaming packets out of an interface from a pcap file rather than generating the packets within the UI.\n",
    "Note the `-s <P>:file.pcap` option where `P` refers to the port number to bind the pcap file to.\n",
    "\n",
    "```\n",
    "root@smartnic-dpdk:/# pktgen -a $SN_PCIE_DEV.0 -a $SN_PCIE_DEV.1 -l 4-8 -n 4 -d librte_net_qdma.so --file-prefix $SN_PCIE_DEV- -- -v -m [5:6].0 -m [7:8].1 -s 1:your_custom.pcap\n",
    "Pktgen:/> port 1\n",
    "Pktgen:/> page pcap\n",
    "Pktgen:/> page main\n",
    "Pktgen:/> start 1\n",
    "Pktgen:/> stop 1\n",
    "Pktgen:/> clr\n",
    "```\n",
    "\n",
    "Example of running a particular test case via a script rather than typing at the UI\n",
    "\n",
    "```\n",
    "cat <<_EOF > /tmp/test.pkt\n",
    "clr\n",
    "set 1 size 1400\n",
    "set 1 count 1000000\n",
    "enable 0 capture\n",
    "start 1\n",
    "disable 0 capture\n",
    "_EOF\n",
    "```\n",
    "\n",
    "```\n",
    "root@smartnic-dpdk:/# pktgen -a $SN_PCIE_DEV.0 -a SN_PCIE_DEV.1 -l 4-8 -n 4 -d librte_net_qdma.so --file-prefix $SN_PCIE_DEV- -- -v -m [5:6].0 -m [7:8].1 -f /tmp/test.pkt\n",
    "```\n",
    "### Troubleshooting the pktgen-dpdk Application\n",
    "\n",
    "If pktgen isn't starting, please consider the following troubleshooting steps:\n",
    "\n",
    "Ensure you are using the correct profile in your `sn-stack/.env` file and that you are starting pktgen with the right command. For a more detailed understanding of the command, please refer to the pktgen documentation provided earlier.\n",
    "\n",
    "If pktgen is starting, but packets aren't flowing as expected, you can check the packet path using the following command inside the `smartnic-fw` container:\n",
    "\n",
    "```\n",
    "sn-cli probe stats\n",
    "```\n",
    "\n",
    "If packets sent to/from the host aren't achieving line rate (100Gbps per port), it could be due to QDMA queue allocation. You can attempt to allocate more QDMA queues per port by setting `sn-cli qdma setqs` to values higher than `1 1`.\n",
    "\n",
    "If packets are egressing to the wrong port (whether CMAC or PF), it might be due to the `sn-cli` configuration. For example, here's a script that routes all egress packets to CMAC1:\n",
    "\n",
    "```\n",
    "#!/bin/bash\n",
    "sn-cli dev version\n",
    "sn-cli sw in-port-rename cmac0:cmac0 cmac1:cmac1 host0:host0 host1:host1\n",
    "sn-cli sw app0-port-redirect cmac0:cmac0 cmac1:cmac1 host0:host0 host1:host1\n",
    "sn-cli sw app1-port-redirect cmac0:cmac0 cmac1:cmac1 host0:host0 host1:host1\n",
    "sn-cli sw bypass-connect cmac0:cmac0 cmac1:cmac1 host0:host0 host1:host1\n",
    "sn-cli sw in-port-connect cmac0:app0 cmac1:app0 host0:app0 host1:app0\n",
    "sn-cli sw status\n",
    "sn-cli qdma setqs 1 1\n",
    "sn-cli cmac enable\n",
    "sn-cli cmac status\n",
    "```\n",
    "\n",
    "These steps should help you troubleshoot issues related to the pktgen-dpdk application effectively.\n",
    "\n"
   ]
  },
  {
   "cell_type": "markdown",
   "id": "3fdb00b5-b50f-48e9-8358-cfc8afe81c48",
   "metadata": {},
   "source": [
    "---\n",
    "---\n",
    "---\n",
    "Now we reach the end of our tutorial.\n",
    "\n",
    "For more information, please refer to some other documentations that we have authored:\n",
    "\n",
    "<h2 style=\"font-size: 24px; color: #4CAF50;\">1. The tutorial on my <a href=\"https://groundsada.github.io/esnet-smartnic-tutorial/\" style=\"color: #007bff;\">GitHub</a></h2>\n",
    "\n",
    "<h2 style=\"font-size: 24px; color: #4CAF50;\">2. The FABRIC Testbed ESnet SmartNIC docs: <a href=\"https://learn.fabric-testbed.net/knowledge-base/using-esnet-p4-workflow-on-fabric/\" style=\"color: #007bff;\">FABRIC ESnet SmartNIC docs</a></h2>\n",
    "\n",
    "<h2 style=\"font-size: 24px; color: #4CAF50;\">3. The video tutorial on my <a href=\"https://www.youtube.com/watch?v=fiZMPPW_oRk&list=PL5Ght4QkHL8QK75R3ThqU7vzob5f65_Zi&ab_channel=MohammadFirasSada\" style=\"color: #007bff;\">YouTube</a></h2>\n",
    "\n"
   ]
  },
  {
   "cell_type": "markdown",
   "id": "5462756e-c972-42d4-8e49-00020b37d724",
   "metadata": {},
   "source": [
    "---\n",
    "This notebook is part 3 out of 3 in the **ESnet SmartNIC Tutorial on NRP** series.\n",
    "\n",
    "This was last modified on March 4th, 2025.\n",
    "\n",
    "For any inquiries, questions, feedback, please contact: mfsada@ucsd.edu"
   ]
  }
 ],
 "metadata": {
  "kernelspec": {
   "display_name": "Bash",
   "language": "bash",
   "name": "bash"
  },
  "language_info": {
   "codemirror_mode": "shell",
   "file_extension": ".sh",
   "mimetype": "text/x-sh",
   "name": "bash"
  }
 },
 "nbformat": 4,
 "nbformat_minor": 5
}
