{
 "cells": [
  {
   "cell_type": "markdown",
   "id": "d1ec4cfa-7021-4ead-bd14-1db7b86eaa32",
   "metadata": {},
   "source": [
    "## Development (Notebook 1/3): Writing and Testing a P4 Program\n",
    "\n",
    "This notebook is **Part 1** of the **ESnet SmartNIC Tutorial on NRP** series. It provides an example of cloning the `esnet-smartnic-hw` repository, and writing and testing a simple P4 program.\n",
    "\n",
    "---\n",
    "\n",
    "### Test Environment\n",
    "\n",
    "This notebook was tested on the **National Research Platform (NRP)** using the **AMD/Xilinx Alveo U55C FPGA** and **Vivado 2023.1**. The Kubernetes pods were provisioned by [Coder](https://coder.nrp-nautilus.io).\n",
    "\n",
    "This tutorial is built on the following software/respositories along with versions/commits:\n",
    "\n",
    "```\n",
    "Ubuntu 22.04 with Linux 5.15.0-153.\n",
    "Vivado 2023.1 with the VitisNetowrkingP4 license.\n",
    "The esnet-smartnic-hw repository.\n",
    "The esnet-smartnic-fw repository.\n",
    "The smartnic-dpdk-docker repository.\n",
    "The xilinx-labtools-docker repository.\n",
    "```\n",
    "\n",
    "If you run into any issues, please refer to the official [NRP Documentation](https://docs.nrp.ai), or reach out to us via [Matrix](https://element.nrp-nautilus.io) or [email](mailto:support@nationalresearchplatform.org).\n",
    "\n",
    "Before using the ESnet SmartNIC tools, kindly review the official [ESnet SmartNIC Copyright Notice](https://github.com/esnet/esnet-smartnic-hw).\n",
    "\n",
    "---\n",
    "\n",
    "For more documentation, please refer to some other documentations that we have authored:\n",
    "\n",
    "<h2 style=\"font-size: 24px; color: #4CAF50;\">1. The tutorial on my <a href=\"https://groundsada.github.io/esnet-smartnic-tutorial/\" style=\"color: #007bff;\">GitHub</a></h2>\n",
    "\n",
    "<h2 style=\"font-size: 24px; color: #4CAF50;\">2. The FABRIC Testbed ESnet SmartNIC docs: <a href=\"https://learn.fabric-testbed.net/knowledge-base/using-esnet-p4-workflow-on-fabric/\" style=\"color: #007bff;\">FABRIC ESnet SmartNIC docs</a></h2>\n",
    "\n",
    "<h2 style=\"font-size: 24px; color: #4CAF50;\">3. The video tutorial on my <a href=\"https://www.youtube.com/watch?v=fiZMPPW_oRk&list=PL5Ght4QkHL8QK75R3ThqU7vzob5f65_Zi&ab_channel=MohammadFirasSada\" style=\"color: #007bff;\">YouTube</a></h2>\n",
    "\n",
    "---\n",
    "### Technical Information for Reproducing This Experiment in a Different Environment\n",
    "\n",
    "1. **ESnet SmartNIC Tool Stack**\n",
    "\n",
    "After building the ESnet SmartNIC tool stack, it runs as a **Docker Compose** stack. Therefore, you need a system capable of running `docker-compose`. We’ve tested this on multiple baremetal and KVM environments. For Kubernetes, we use **sysbox** to run **rootless Docker-in-Docker**, allowing `docker-compose` to run within the `crio` runtime without exposing a Docker daemon socket from the host.\n",
    "\n",
    "The [FABRIC Testbed Guide](https://learn.fabric-testbed.net/knowledge-base/passing-xilinx-u280-fpga-into-a-kvm-vm/) explains how to pass Alveo FPGAs into a KVM VM.\n",
    "\n",
    "2. **Vivado Software Requirements**\n",
    "\n",
    "The ESnet SmartNIC tool stack requires **Vivado** software (with the correct version) for **development purposes only**. This version depends on the commits from the `esnet` repositories. The **National Research Platform** offers centralized Xilinx tools (Vitis, Vivado, Vitis_HLS, etc.) served from a Ceph storage pool, along with a floating license server.\n",
    "\n",
    "If you prefer not to use Coder, you can request access to the Persistent Volume Claim (PVC) for your namespace by contacting the Operations team (contact via Matrix).\n",
    "\n",
    "3. **Licensing Information**\n",
    "\n",
    "Proper **licensing** is required. When provisioning from Coder, the licensing server is already configured. Other namespaces or environments can access and point to the license server at:\n",
    "\n",
    "`XILINXD_LICENSE_FILE=2100@xilinxd.xilinx-dev`.\n",
    "\n",
    "You can use NRP’s setup for **software-only** use cases, such as building FPGA artifacts for other environments (e.g., FABRIC, CC).\n",
    "\n",
    "4. **Flashing FPGAs**\n",
    "\n",
    "Reprogramming FPGAs (e.g., for P4 OpenNIC Shell, XRT, etc.) requires a **JTAG-over-USB connection** to the devices. For Alveo devices, this necessitates an external USB connection to the host server (in this case, the Kubernetes node). The pods provisioned for FPGA tasks will have the USB connection passed through using the **Smarter Device Manager**.\n",
    "\n",
    "Flashing requires a **power cycle** of the host server (node), which must be coordinated with the Operations team. Please contact us if flashing is required for your work.\n",
    "\n",
    "5. **FPGA Availability on NRP**\n",
    "\n",
    "At the time of writing, there are **32 Alveo U55C FPGAs** on NRP, all available on the **Nautilus cluster** at the **San Diego Supercomputer Center**. These FPGAs are located on **PNRP nodes** following the naming convention:\n",
    "\n",
    "`node-X-Y.sdsc.optiputer.net`.\n",
    "\n",
    "6. **SmartNIC Configuration**\n",
    "\n",
    "The FPGAs can be programmed as **SmartNICs**, and in some cases, users may expose them as network interfaces. Pods that handle network operations require special capabilities, such as `CAP_NET_RAW`. These capabilities are pre-configured in Coder, but if you are running outside of Coder, you will need to define these capabilities explicitly.\n",
    "\n",
    "7. **DPDK Requirements**\n",
    "\n",
    "Running **DPDK** requires both **hugepages** and **IOMMU passthrough**. These are provided on nodes hosting FPGAs.\n",
    "\n",
    "8. **Privileges for ESnet SmartNIC Stack**\n",
    "\n",
    "The ESnet SmartNIC stack performs privileged tasks (e.g., binding and unbinding from devices), which require extra privileges on the host node. These privileges are available in Coder. If you are setting up in your own namespace, please reach out for assistance.\n",
    "\n",
    "**Important:** Misuse of these privileges will violate our Acceptable Use Policy and may result in immediate account suspension and accountability measures.\n",
    "\n",
    "---\n"
   ]
  },
  {
   "cell_type": "markdown",
   "id": "b608584a-caec-4701-ada9-a59ec15ba44f",
   "metadata": {},
   "source": [
    "The ESnet SmartNIC framework provides an entire workflow to program AMD/Xilinx Alveo FPGA cards using P4. The ESnet framework is open-source and available on GitHub. ESnet is a high-performance network that supports scientific research. The ESnet team created the framework that seamlessly integrates AMD/Xilinx tools along with various tools like DPDK to provide an easy way of programming Alveo cards as SmartNICs. The framework runs in docker containers as demonstrated in this Jupyter Notebook."
   ]
  },
  {
   "cell_type": "markdown",
   "id": "ee7a823a-789e-4ca8-be66-9e1c261cc772",
   "metadata": {},
   "source": [
    "### Step 1: Set up environment"
   ]
  },
  {
   "cell_type": "markdown",
   "id": "4368de1e-09b5-4da5-acc3-5c119679f0fe",
   "metadata": {},
   "source": [
    "Remove any pre-existing clones of the tutorial repo."
   ]
  },
  {
   "cell_type": "code",
   "execution_count": null,
   "id": "4c39dea7-2de8-49f3-9b7c-445614c9e2e9",
   "metadata": {},
   "outputs": [],
   "source": [
    "rm -rf ~/esnet-smartnic/esnet-smartnic-hw"
   ]
  },
  {
   "cell_type": "code",
   "execution_count": null,
   "id": "51939e05-4262-4bd8-bff4-d20fc231569b",
   "metadata": {
    "scrolled": true
   },
   "outputs": [],
   "source": [
    "echo \"$BASH_VERSION\""
   ]
  },
  {
   "cell_type": "markdown",
   "id": "4e52666f-a416-418e-87c1-84e69df7a35d",
   "metadata": {},
   "source": [
    "If the above command doesn't show a bash version, **you may be running with a Python kernel. Please switch to a Bash kernel.**"
   ]
  },
  {
   "cell_type": "code",
   "execution_count": null,
   "id": "9e818fc0-bf74-4832-b6e6-aee55ecef844",
   "metadata": {},
   "outputs": [],
   "source": [
    "mkdir -p ~/esnet-smartnic\n",
    "cd ~/esnet-smartnic"
   ]
  },
  {
   "cell_type": "markdown",
   "id": "6403167e-8af5-4113-8a6f-260d5d47207b",
   "metadata": {},
   "source": [
    "Clone the `esnet-smartnic-hw` repository from ESnet.\n",
    "Checkout at the latest tested commit."
   ]
  },
  {
   "cell_type": "markdown",
   "id": "5dc740d2-714d-4f9b-953b-40691dad06d6",
   "metadata": {},
   "source": [
    "### Step 2: Clone the reposirtory"
   ]
  },
  {
   "cell_type": "code",
   "execution_count": null,
   "id": "b3199dee-5871-443c-a49f-8de68282745b",
   "metadata": {},
   "outputs": [],
   "source": [
    "git clone https://github.com/esnet/esnet-smartnic-hw.git \n",
    "cd esnet-smartnic-hw\n",
    "git checkout d3782445ce5f090ca955693a98ce68f96b68943c\n",
    "git submodule update --init --recursive\n",
    "sudo apt install python3-yaml python3-jinja2 python3-click -y\n",
    "pip3 install -r esnet-fpga-library/tools/regio/requirements.txt\n",
    "ls"
   ]
  },
  {
   "cell_type": "markdown",
   "id": "86f7c70a-bc53-4d96-be6a-2071d6cb9298",
   "metadata": {},
   "source": [
    "You can see the contents of the repository. The examples directory has multiple examples to show."
   ]
  },
  {
   "cell_type": "code",
   "execution_count": null,
   "id": "2d4001a4-ce14-49b9-858c-e78242aa18d3",
   "metadata": {},
   "outputs": [],
   "source": [
    "cd examples/p4_only\n",
    "ls"
   ]
  },
  {
   "cell_type": "markdown",
   "id": "f07eb662-c682-4a24-bb54-3ade5626b340",
   "metadata": {},
   "source": [
    "Running `make` in the p4_only directory will build the *artifacts*, which is a **zip package** containing the compiled bitstream and all other necessary files to run on the FPGA."
   ]
  },
  {
   "cell_type": "markdown",
   "id": "15e07ca2-bf2f-40b6-982d-030efa76713f",
   "metadata": {},
   "source": [
    "The `sim` directory has the simulation-related files."
   ]
  },
  {
   "cell_type": "code",
   "execution_count": null,
   "id": "3db52551-761f-4dbe-affb-35b6df0b7d3a",
   "metadata": {},
   "outputs": [],
   "source": [
    "cd p4\n",
    "ls"
   ]
  },
  {
   "cell_type": "markdown",
   "id": "f8ccc752-e446-4102-a0c1-de2668bb444e",
   "metadata": {},
   "source": [
    "### Step 3: P4 Experiments"
   ]
  },
  {
   "cell_type": "code",
   "execution_count": null,
   "id": "6622fef6-3491-4a5f-9340-5eba739b9e66",
   "metadata": {},
   "outputs": [],
   "source": [
    "cat p4_only.p4"
   ]
  },
  {
   "cell_type": "code",
   "execution_count": null,
   "id": "e953c75e-2cb4-46e8-930d-96c26d519cd6",
   "metadata": {},
   "outputs": [],
   "source": [
    "cp ../../../../assets/p4_only.p4 .\n",
    "cat p4_only.p4"
   ]
  },
  {
   "cell_type": "code",
   "execution_count": null,
   "id": "885359bd-fac5-4254-85b7-d328c97ab4c1",
   "metadata": {},
   "outputs": [],
   "source": [
    "source /tools/Xilinx/Vivado/2023.1/settings64.sh\n",
    "export XILINXD_LICENSE_FILE=2100@xilinxd.xilinx-dev"
   ]
  },
  {
   "cell_type": "code",
   "execution_count": null,
   "id": "e3144b96-ce8b-4d57-be3a-ed50f5ef9102",
   "metadata": {},
   "outputs": [],
   "source": [
    "cd sim\n",
    "head test-fwd-p0/packets_in.user"
   ]
  },
  {
   "cell_type": "code",
   "execution_count": null,
   "id": "553c1bb5-17e0-4155-97f5-4a91b3943de6",
   "metadata": {},
   "outputs": [],
   "source": [
    "cp -r test-fwd-p0 test-fwd-p1\n",
    "sed -i 's/^P4BM_DIRS = test-fwd-p0$/P4BM_DIRS = test-fwd-p0 test-fwd-p1/' Makefile\n",
    "sed -i 's/^\\(P4BM_DIR = test-fwd-p0\\)/# \\1/' Makefile"
   ]
  },
  {
   "cell_type": "code",
   "execution_count": null,
   "id": "131ecb40-31c7-4e2e-b0b6-b42da9529fae",
   "metadata": {},
   "outputs": [],
   "source": [
    "env | grep XILINXD_LICENSE_FILE"
   ]
  },
  {
   "cell_type": "code",
   "execution_count": null,
   "id": "35386a89-b8c4-488c-be9a-421371e3c5b2",
   "metadata": {},
   "outputs": [],
   "source": [
    "make\n",
    "ls test-fwd-p1"
   ]
  },
  {
   "cell_type": "code",
   "execution_count": null,
   "id": "f2bc4bc3-93ca-4b72-a33b-49240b7cd422",
   "metadata": {},
   "outputs": [],
   "source": [
    "head test-fwd-p1/packets_in.user\n",
    "head test-fwd-p1/packets_out.user"
   ]
  },
  {
   "cell_type": "code",
   "execution_count": null,
   "id": "e4eb62cb-dc45-4124-aec2-086731964ba3",
   "metadata": {},
   "outputs": [],
   "source": [
    "python3 - <<EOF\n",
    "from scapy.all import Ether, IP, wrpcap\n",
    "\n",
    "# Generate 10 IPv4 packets with TTL values 1 to 10\n",
    "packets = [Ether() / IP(dst=\"192.168.1.1\", ttl=ttl) for ttl in range(1, 11)]\n",
    "\n",
    "# Save the packets to the specified pcap file\n",
    "wrpcap(\"test-fwd-p1/packets_in.pcap\", packets)\n",
    "\n",
    "print(\"PCAP file 'test-fwd-p1/packets_in.pcap' created with 10 Ethernet+IPv4 packets, TTLs 1-10\")\n",
    "EOF"
   ]
  },
  {
   "cell_type": "code",
   "execution_count": null,
   "id": "043663d6-0186-4206-a462-1b3dbc8fa9fc",
   "metadata": {},
   "outputs": [],
   "source": [
    "make clean\n",
    "rm -rf test-fwd-p1/packets_in.user\n",
    "ls test-fwd-p1"
   ]
  },
  {
   "cell_type": "code",
   "execution_count": null,
   "id": "81d4441a-9f29-47e7-a9cb-73a29fb98c65",
   "metadata": {},
   "outputs": [],
   "source": [
    "tshark -r test-fwd-p1/packets_in.pcap -T tabs"
   ]
  },
  {
   "cell_type": "code",
   "execution_count": null,
   "id": "6c82f1b5-da3d-459d-bafa-31cd43e8d8f9",
   "metadata": {},
   "outputs": [],
   "source": [
    "make\n",
    "tshark -r test-fwd-p1/packets_in.pcap -T tabs\n",
    "tshark -r test-fwd-p1/packets_in.pcap -T fields -e ip.ttl"
   ]
  },
  {
   "cell_type": "code",
   "execution_count": null,
   "id": "3603d182-551c-448e-ac96-e36c73d11299",
   "metadata": {},
   "outputs": [],
   "source": [
    "tshark -r test-fwd-p1/packets_out.pcap -T tabs\n",
    "tshark -r test-fwd-p1/packets_out.pcap -T fields -e ip.ttl"
   ]
  },
  {
   "cell_type": "markdown",
   "id": "f084b55e-b55d-44b7-85f1-7656c58e8894",
   "metadata": {},
   "source": [
    "### Step 4: Control Plane Table Entries"
   ]
  },
  {
   "cell_type": "code",
   "execution_count": null,
   "id": "26e547ab-3f3f-43b3-b700-7dad29dd7854",
   "metadata": {},
   "outputs": [],
   "source": [
    "cat test-fwd-p1/packets_in.meta"
   ]
  },
  {
   "cell_type": "code",
   "execution_count": null,
   "id": "e6c393dd-c2cc-4c82-ad56-83d76c17ec4e",
   "metadata": {},
   "outputs": [],
   "source": [
    "cat test-fwd-p1/packets_out.meta"
   ]
  },
  {
   "cell_type": "markdown",
   "id": "abff3211-cf0d-463e-8ce0-3cb1a2eb2285",
   "metadata": {},
   "source": [
    "---\n",
    "---\n",
    "---\n",
    "Now we reach the end of writing a P4 program and testing it against custom PCAP files.\n",
    "In the next notebook, we will be building the artifacts from the P4 logic."
   ]
  },
  {
   "cell_type": "markdown",
   "id": "5462756e-c972-42d4-8e49-00020b37d724",
   "metadata": {},
   "source": [
    "---\n",
    "This notebook is part 1 out of 3 in the **ESnet SmartNIC Tutorial on NRP** series.\n",
    "\n",
    "This was last modified on March 4th, 2025.\n",
    "\n",
    "For any inquiries, questions, feedback, please contact: mfsada@ucsd.edu"
   ]
  }
 ],
 "metadata": {
  "kernelspec": {
   "display_name": "Bash",
   "language": "bash",
   "name": "bash"
  },
  "language_info": {
   "codemirror_mode": "shell",
   "file_extension": ".sh",
   "mimetype": "text/x-sh",
   "name": "bash"
  }
 },
 "nbformat": 4,
 "nbformat_minor": 5
}
