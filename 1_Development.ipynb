{
 "cells": [
  {
   "cell_type": "markdown",
   "id": "d1ec4cfa-7021-4ead-bd14-1db7b86eaa32",
   "metadata": {},
   "source": [
    "## Development (Notebook 1/3): Writing and Testing a P4 Program\n",
    "\n",
    "This notebook is **Part 1** of the **ESnet SmartNIC Tutorial on NRP** series. It provides an example of cloning the `esnet-smartnic-hw` repository, and writing and testing a simple P4 program.\n",
    "\n",
    "---\n",
    "\n",
    "### Test Environment\n",
    "\n",
    "This notebook was tested on the **National Research Platform (NRP)** using the **AMD/Xilinx Alveo U55C FPGA** and **Vivado 2023.1**. The Kubernetes pods were provisioned by [Coder](https://coder.nrp-nautilus.io).\n",
    "\n",
    "This tutorial is built on the following software/respositories along with versions/commits:\n",
    "\n",
    "```\n",
    "Ubuntu 22.04 with Linux 5.15.0-153.\n",
    "Vivado 2023.1 with the VitisNetowrkingP4 license.\n",
    "The esnet-smartnic-hw repository.\n",
    "The esnet-smartnic-fw repository.\n",
    "The smartnic-dpdk-docker repository.\n",
    "The xilinx-labtools-docker repository.\n",
    "```\n",
    "\n",
    "If you run into any issues, please refer to the official [NRP Documentation](https://docs.nrp.ai), or reach out to us via [Matrix](https://element.nrp-nautilus.io) or [email](mailto:support@nationalresearchplatform.org).\n",
    "\n",
    "Before using the ESnet SmartNIC tools, kindly review the official [ESnet SmartNIC Copyright Notice](https://github.com/esnet/esnet-smartnic-hw).\n",
    "\n",
    "---\n",
    "\n",
    "For more documentation, please refer to some other documentations that we have authored:\n",
    "\n",
    "<h2 style=\"font-size: 24px; color: #4CAF50;\">1. The tutorial on my <a href=\"https://groundsada.github.io/esnet-smartnic-tutorial/\" style=\"color: #007bff;\">GitHub</a></h2>\n",
    "\n",
    "<h2 style=\"font-size: 24px; color: #4CAF50;\">2. The FABRIC Testbed ESnet SmartNIC docs: <a href=\"https://learn.fabric-testbed.net/knowledge-base/using-esnet-p4-workflow-on-fabric/\" style=\"color: #007bff;\">FABRIC ESnet SmartNIC docs</a></h2>\n",
    "\n",
    "<h2 style=\"font-size: 24px; color: #4CAF50;\">3. The video tutorial on my <a href=\"https://www.youtube.com/watch?v=fiZMPPW_oRk&list=PL5Ght4QkHL8QK75R3ThqU7vzob5f65_Zi&ab_channel=MohammadFirasSada\" style=\"color: #007bff;\">YouTube</a></h2>\n",
    "\n",
    "---\n",
    "### Technical Information for Reproducing This Experiment in a Different Environment\n",
    "\n",
    "1. **ESnet SmartNIC Tool Stack**\n",
    "\n",
    "After building the ESnet SmartNIC tool stack, it runs as a **Docker Compose** stack. Therefore, you need a system capable of running `docker-compose`. We’ve tested this on multiple baremetal and KVM environments. For Kubernetes, we use **sysbox** to run **rootless Docker-in-Docker**, allowing `docker-compose` to run within the `crio` runtime without exposing a Docker daemon socket from the host.\n",
    "\n",
    "The [FABRIC Testbed Guide](https://learn.fabric-testbed.net/knowledge-base/passing-xilinx-u280-fpga-into-a-kvm-vm/) explains how to pass Alveo FPGAs into a KVM VM.\n",
    "\n",
    "2. **Vivado Software Requirements**\n",
    "\n",
    "The ESnet SmartNIC tool stack requires **Vivado** software (with the correct version) for **development purposes only**. This version depends on the commits from the `esnet` repositories. The **National Research Platform** offers centralized Xilinx tools (Vitis, Vivado, Vitis_HLS, etc.) served from a Ceph storage pool, along with a floating license server.\n",
    "\n",
    "If you prefer not to use Coder, you can request access to the Persistent Volume Claim (PVC) for your namespace by contacting the Operations team (contact via Matrix).\n",
    "\n",
    "3. **Licensing Information**\n",
    "\n",
    "Proper **licensing** is required. When provisioning from Coder, the licensing server is already configured. Other namespaces or environments can access and point to the license server at:\n",
    "\n",
    "`XILINXD_LICENSE_FILE=2100@xilinxd.xilinx-dev`.\n",
    "\n",
    "You can use NRP’s setup for **software-only** use cases, such as building FPGA artifacts for other environments (e.g., FABRIC, CC).\n",
    "\n",
    "4. **Flashing FPGAs**\n",
    "\n",
    "Reprogramming FPGAs (e.g., for P4 OpenNIC Shell, XRT, etc.) requires a **JTAG-over-USB connection** to the devices. For Alveo devices, this necessitates an external USB connection to the host server (in this case, the Kubernetes node). The pods provisioned for FPGA tasks will have the USB connection passed through using the **Smarter Device Manager**.\n",
    "\n",
    "Flashing requires a **power cycle** of the host server (node), which must be coordinated with the Operations team. Please contact us if flashing is required for your work.\n",
    "\n",
    "5. **FPGA Availability on NRP**\n",
    "\n",
    "At the time of writing, there are **32 Alveo U55C FPGAs** on NRP, all available on the **Nautilus cluster** at the **San Diego Supercomputer Center**. These FPGAs are located on **PNRP nodes** following the naming convention:\n",
    "\n",
    "`node-X-Y.sdsc.optiputer.net`.\n",
    "\n",
    "6. **SmartNIC Configuration**\n",
    "\n",
    "The FPGAs can be programmed as **SmartNICs**, and in some cases, users may expose them as network interfaces. Pods that handle network operations require special capabilities, such as `CAP_NET_RAW`. These capabilities are pre-configured in Coder, but if you are running outside of Coder, you will need to define these capabilities explicitly.\n",
    "\n",
    "7. **DPDK Requirements**\n",
    "\n",
    "Running **DPDK** requires both **hugepages** and **IOMMU passthrough**. These are provided on nodes hosting FPGAs.\n",
    "\n",
    "8. **Privileges for ESnet SmartNIC Stack**\n",
    "\n",
    "The ESnet SmartNIC stack performs privileged tasks (e.g., binding and unbinding from devices), which require extra privileges on the host node. These privileges are available in Coder. If you are setting up in your own namespace, please reach out for assistance.\n",
    "\n",
    "**Important:** Misuse of these privileges will violate our Acceptable Use Policy and may result in immediate account suspension and accountability measures.\n",
    "\n",
    "---\n"
   ]
  },
  {
   "cell_type": "markdown",
   "id": "b608584a-caec-4701-ada9-a59ec15ba44f",
   "metadata": {},
   "source": [
    "The ESnet SmartNIC framework provides an entire workflow to program AMD/Xilinx Alveo FPGA cards using P4. The ESnet framework is open-source and available on GitHub. ESnet is a high-performance network that supports scientific research. The ESnet team created the framework that seamlessly integrates AMD/Xilinx tools along with various tools like DPDK to provide an easy way of programming Alveo cards as SmartNICs. The framework runs in docker containers as demonstrated in this Jupyter Notebook."
   ]
  },
  {
   "cell_type": "markdown",
   "id": "ee7a823a-789e-4ca8-be66-9e1c261cc772",
   "metadata": {},
   "source": [
    "### Step 1: Set up environment"
   ]
  },
  {
   "cell_type": "markdown",
   "id": "4368de1e-09b5-4da5-acc3-5c119679f0fe",
   "metadata": {},
   "source": [
    "Remove any pre-existing clones of the tutorial repo."
   ]
  },
  {
   "cell_type": "code",
   "execution_count": 1,
   "id": "4c39dea7-2de8-49f3-9b7c-445614c9e2e9",
   "metadata": {},
   "outputs": [],
   "source": [
    "rm -rf ~/esnet-smartnic/esnet-smartnic-hw"
   ]
  },
  {
   "cell_type": "code",
   "execution_count": 2,
   "id": "51939e05-4262-4bd8-bff4-d20fc231569b",
   "metadata": {
    "scrolled": true
   },
   "outputs": [
    {
     "name": "stdout",
     "output_type": "stream",
     "text": [
      "echo $0 \"$BASH_VERSION\" \"$BASH_VERSION\" \"$BASH_VERSION\" \"$BASH_VERSION\" \"$BASH_VERSION\" \"$BASH_VERSION\" \"$BASH_VERSION\" \"$BASH_VERSION\" \"$BASH_VERSION\" \"$BASH_VERSION\" \"$BASH_VERSION\" \"$BASH_VERSION\" \"$BASH_VERSION\" \"$BASH_VERSION\" \"$BASH_VERSION\" \"$BASH_VERSION\" \"$BASH_VERSION\"\n",
      "/usr/bin/bash 5.0.17(1)-release 5.0.17(1)-release 5.0.17(1)-release 5.0.17(1)-release 5.0.17(1)-release 5.0.17(1)-release 5.0.17(1)-release 5.0.17(1)-release 5.0.17(1)-release 5.0.17(1)-release 5.0.17(1)-release 5.0.17(1)-release 5.0.17(1)-release 5.0.17(1)-release 5.0.17(1)-release 5.0.17(1)-release 5.0.17(1)-release\n"
     ]
    }
   ],
   "source": [
    "!echo \"$BASH_VERSION\""
   ]
  },
  {
   "cell_type": "markdown",
   "id": "4e52666f-a416-418e-87c1-84e69df7a35d",
   "metadata": {},
   "source": [
    "If the above command doesn't show a bash version, **you may be running with a Python kernel. Please switch to a Bash kernel.**"
   ]
  },
  {
   "cell_type": "code",
   "execution_count": 3,
   "id": "9e818fc0-bf74-4832-b6e6-aee55ecef844",
   "metadata": {},
   "outputs": [],
   "source": [
    "mkdir -p ~/esnet-smartnic\n",
    "cd ~/esnet-smartnic"
   ]
  },
  {
   "cell_type": "markdown",
   "id": "6403167e-8af5-4113-8a6f-260d5d47207b",
   "metadata": {},
   "source": [
    "Clone the `esnet-smartnic-hw` repository from ESnet.\n",
    "Checkout at the latest tested commit."
   ]
  },
  {
   "cell_type": "markdown",
   "id": "5dc740d2-714d-4f9b-953b-40691dad06d6",
   "metadata": {},
   "source": [
    "### Step 2: Clone the reposirtory"
   ]
  },
  {
   "cell_type": "code",
   "execution_count": 4,
   "id": "b3199dee-5871-443c-a49f-8de68282745b",
   "metadata": {},
   "outputs": [
    {
     "name": "stdout",
     "output_type": "stream",
     "text": [
      "Cloning into 'esnet-smartnic-hw'...\n",
      "remote: Enumerating objects: 9576, done.\u001b[K\n",
      "remote: Counting objects: 100% (4388/4388), done.\u001b[K\n",
      "remote: Compressing objects: 100% (2112/2112), done.\u001b[K\n",
      "remote: Total 9576 (delta 2373), reused 3994 (delta 2038), pack-reused 5188 (from 1)\u001b[K\n",
      "Receiving objects: 100% (9576/9576), 2.27 MiB | 8.86 MiB/s, done.\n",
      "Resolving deltas: 100% (5656/5656), done.\n",
      "Note: switching to 'd3782445ce5f090ca955693a98ce68f96b68943c'.\n",
      "\n",
      "You are in 'detached HEAD' state. You can look around, make experimental\n",
      "changes and commit them, and you can discard any commits you make in this\n",
      "state without impacting any branches by switching back to a branch.\n",
      "\n",
      "If you want to create a new branch to retain commits you create, you may\n",
      "do so (now or later) by using -c with the switch command. Example:\n",
      "\n",
      "  git switch -c <new-branch-name>\n",
      "\n",
      "Or undo this operation with:\n",
      "\n",
      "  git switch -\n",
      "\n",
      "Turn off this advice by setting config variable advice.detachedHead to false\n",
      "\n",
      "HEAD is now at d378244 Merge branch 'dev/jsewter/vitisnetp4-pkg-compile' into 'main'\n",
      "Submodule 'esnet-fpga-library' (https://github.com/esnet/esnet-fpga-library) registered for path 'esnet-fpga-library'\n",
      "Submodule 'open-nic-shell' (https://github.com/esnet/open-nic-shell) registered for path 'open-nic-shell'\n",
      "Cloning into '/home/coder/p4-smartnic-on-pod/esnet-smartnic-hw/esnet-fpga-library'...\n",
      "Cloning into '/home/coder/p4-smartnic-on-pod/esnet-smartnic-hw/open-nic-shell'...\n",
      "Submodule path 'esnet-fpga-library': checked out 'f27e5c986fa7140e6142f21fb31bd85b14a9042d'\n",
      "Submodule 'regio' (https://github.com/esnet/regio) registered for path 'esnet-fpga-library/tools/regio'\n",
      "Submodule 'svunit' (https://github.com/svunit/svunit.git) registered for path 'esnet-fpga-library/tools/svunit'\n",
      "Cloning into '/home/coder/p4-smartnic-on-pod/esnet-smartnic-hw/esnet-fpga-library/tools/regio'...\n",
      "Cloning into '/home/coder/p4-smartnic-on-pod/esnet-smartnic-hw/esnet-fpga-library/tools/svunit'...\n",
      "Submodule path 'esnet-fpga-library/tools/regio': checked out 'fbd8bdf1a7a628287e95c5cf667b14afc94203c5'\n",
      "Submodule path 'esnet-fpga-library/tools/svunit': checked out '84b88033590a1469a238be84d8526b25a9f29d10'\n",
      "Submodule path 'open-nic-shell': checked out '4f3b446d57ab9d4121ca586807326040bb3a581c'\n",
      "Reading package lists... 0%Reading package lists... 0%Reading package lists... 0%Reading package lists... 3%Reading package lists... 3%Reading package lists... 3%Reading package lists... 3%Reading package lists... 36%Reading package lists... 36%Reading package lists... 36%Reading package lists... 36%Reading package lists... 50%Reading package lists... 50%Reading package lists... 63%Reading package lists... 64%Reading package lists... 64%Reading package lists... 68%Reading package lists... 68%Reading package lists... 69%Reading package lists... 69%Reading package lists... 69%Reading package lists... 69%Reading package lists... 69%Reading package lists... 69%Reading package lists... 81%Reading package lists... 81%Reading package lists... 94%Reading package lists... 94%Reading package lists... 98%Reading package lists... 98%Reading package lists... 98%Reading package lists... 98%Reading package lists... 99%Reading package lists... 99%Reading package lists... 99%Reading package lists... 99%Reading package lists... Done\n",
      "Building dependency tree... 0%Building dependency tree... 0%Building dependency tree... 50%Building dependency tree... 50%Building dependency tree       \n",
      "Reading state information... 0%Reading state information... 0%Reading state information... Done\n",
      "python3-click is already the newest version (7.0-3).\n",
      "python3-jinja2 is already the newest version (2.10.1-2ubuntu0.4).\n",
      "python3-yaml is already the newest version (5.3.1-1ubuntu0.1).\n",
      "The following packages were automatically installed and are no longer required:\n",
      "  accountsservice-ubuntu-schemas bc bluez-obexd cups cups-browsed cups-client\n",
      "  cups-common cups-core-drivers cups-daemon cups-filters\n",
      "  cups-filters-core-drivers cups-ipp-utils cups-ppdc cups-server-common\n",
      "  desktop-base dosfstools eject fonts-droid-fallback fonts-noto-mono\n",
      "  fonts-quicksand fonts-ubuntu fonts-urw-base35 fuse gdisk ghostscript\n",
      "  gir1.2-dbusmenu-glib-0.4 gnome-bluetooth gnome-power-manager\n",
      "  gnome-screensaver gvfs gvfs-backends gvfs-common gvfs-daemons gvfs-libs\n",
      "  hddtemp indicator-applet indicator-application indicator-appmenu\n",
      "  indicator-bluetooth indicator-common indicator-datetime indicator-keyboard\n",
      "  indicator-messages indicator-power indicator-printers indicator-session\n",
      "  indicator-sound jayatana libaccounts-glib0 libatasmart4 libatkmm-1.6-1v5\n",
      "  libauthen-sasl-perl libbamf3-2 libblockdev-crypto2 libblockdev-fs2\n",
      "  libblockdev-loop2 libblockdev-part-err2 libblockdev-part2 libblockdev-swap2\n",
      "  libblockdev-utils2 libblockdev2 libburn4 libcairomm-1.0-1v5 libcdio-cdda2\n",
      "  libcdio-paranoia2 libcdio18 libcupsfilters1 libdata-dump-perl\n",
      "  libdbus-glib-1-2 libencode-locale-perl libexo-1-0 libfile-basedir-perl\n",
      "  libfile-desktopentry-perl libfile-listing-perl libfile-mimeinfo-perl\n",
      "  libfont-afm-perl libfontembed1 libfuse2 libglibmm-2.4-1v5 libgnome-panel0\n",
      "  libgs9 libgs9-common libgtkmm-3.0-1v5 libgtksourceview-3.0-1\n",
      "  libgtksourceview-3.0-common libhtml-form-perl libhtml-format-perl\n",
      "  libhtml-parser-perl libhtml-tagset-perl libhtml-tree-perl\n",
      "  libhttp-cookies-perl libhttp-daemon-perl libhttp-date-perl\n",
      "  libhttp-message-perl libhttp-negotiate-perl libido3-0.1-0 libijs-0.35\n",
      "  libindicator3-7 libio-html-perl libio-socket-ssl-perl libio-stringy-perl\n",
      "  libipc-system-simple-perl libisofs6 libjbig2dec0 libjte2 libkeybinder-3.0-0\n",
      "  liblightdm-gobject-1-0 liblouis-data liblouis20 liblouisutdml-bin\n",
      "  liblouisutdml-data liblouisutdml9 liblwp-mediatypes-perl\n",
      "  liblwp-protocol-https-perl libmailtools-perl libmessaging-menu0\n",
      "  libmtp-common libmtp-runtime libmtp9 libnet-dbus-perl libnet-http-perl\n",
      "  libnet-smtp-ssl-perl libnet-ssleay-perl libnfs13 libntfs-3g883\n",
      "  libpangomm-1.4-1v5 libpaper-utils libpaper1 libparted-fs-resize0 libparted2\n",
      "  libplymouth5 libpoppler-cpp0v5 libqpdf26 libqrencode4 libsigc++-2.0-0v5\n",
      "  libtagc0 libtie-ixhash-perl libtimedate-perl libtry-tiny-perl\n",
      "  libunity-gtk2-parser0 libunity-gtk3-parser0 liburl-dispatcher1\n",
      "  libvolume-key1 libwww-perl libwww-robotrules-perl libx11-protocol-perl\n",
      "  libxfce4ui-utils libxml-parser-perl libxml-twig-perl libxml-xpathengine-perl\n",
      "  libxnvctrl0 lightdm lm-sensors lsof mousepad ntfs-3g p7zip p7zip-full parted\n",
      "  pavucontrol perl-openssl-defaults plymouth plymouth-label\n",
      "  plymouth-theme-ubuntu-text poppler-utils python3-psutil python3-xdg\n",
      "  ristretto ssl-cert tango-icon-theme thunar thunar-archive-plugin\n",
      "  thunar-media-tags-plugin thunar-volman ubuntu-touch-sounds udisks2\n",
      "  unity-greeter unity-gtk-module-common unity-gtk2-module unity-gtk3-module\n",
      "  xarchiver xdg-utils xfburn xfce4-appfinder xfce4-clipman\n",
      "  xfce4-clipman-plugin xfce4-cpufreq-plugin xfce4-cpugraph-plugin\n",
      "  xfce4-datetime-plugin xfce4-dict xfce4-diskperf-plugin xfce4-fsguard-plugin\n",
      "  xfce4-genmon-plugin xfce4-mailwatch-plugin xfce4-netload-plugin xfce4-panel\n",
      "  xfce4-places-plugin xfce4-power-manager xfce4-power-manager-data\n",
      "  xfce4-screenshooter xfce4-sensors-plugin xfce4-smartbookmark-plugin\n",
      "  xfce4-systemload-plugin xfce4-taskmanager xfce4-timer-plugin\n",
      "  xfce4-verve-plugin xfce4-wavelan-plugin xfce4-weather-plugin\n",
      "  xfce4-whiskermenu-plugin xfce4-xkb-plugin\n",
      "Use 'sudo apt autoremove' to remove them.\n",
      "0 upgraded, 0 newly installed, 0 to remove and 204 not upgraded.\n",
      "Requirement already satisfied: pyyaml-include in /home/coder/.local/lib/python3.8/site-packages (from -r esnet-fpga-library/tools/regio/requirements.txt (line 1)) (1.3)\n",
      "Requirement already satisfied: PyYAML<7.0,>=5.1 in /usr/local/lib/python3.8/dist-packages (from pyyaml-include->-r esnet-fpga-library/tools/regio/requirements.txt (line 1)) (6.0.1)\n",
      "cfg\t   esnet-fpga-library  Makefile        paths.mk   src\n",
      "config.mk  examples\t       makefile.esnet  README.md\n",
      "docs\t   LICENSE.md\t       open-nic-shell  scripts\n"
     ]
    }
   ],
   "source": [
    "git clone https://github.com/esnet/esnet-smartnic-hw.git \n",
    "cd esnet-smartnic-hw\n",
    "git checkout d3782445ce5f090ca955693a98ce68f96b68943c\n",
    "git submodule update --init --recursive\n",
    "sudo apt install python3-yaml python3-jinja2 python3-click -y\n",
    "pip3 install -r esnet-fpga-library/tools/regio/requirements.txt\n",
    "ls"
   ]
  },
  {
   "cell_type": "markdown",
   "id": "86f7c70a-bc53-4d96-be6a-2071d6cb9298",
   "metadata": {},
   "source": [
    "You can see the contents of the repository. The examples directory has multiple examples to show."
   ]
  },
  {
   "cell_type": "code",
   "execution_count": 5,
   "id": "2d4001a4-ce14-49b9-858c-e78242aa18d3",
   "metadata": {},
   "outputs": [
    {
     "name": "stdout",
     "output_type": "stream",
     "text": [
      "Makefile  p4  README.md\n"
     ]
    }
   ],
   "source": [
    "cd examples/p4_only\n",
    "ls"
   ]
  },
  {
   "cell_type": "markdown",
   "id": "f07eb662-c682-4a24-bb54-3ade5626b340",
   "metadata": {},
   "source": [
    "Running `make` in the p4_only directory will build the *artifacts*, which is a **zip package** containing the compiled bitstream and all other necessary files to run on the FPGA."
   ]
  },
  {
   "cell_type": "markdown",
   "id": "15e07ca2-bf2f-40b6-982d-030efa76713f",
   "metadata": {},
   "source": [
    "The `sim` directory has the simulation-related files."
   ]
  },
  {
   "cell_type": "code",
   "execution_count": 6,
   "id": "3db52551-761f-4dbe-affb-35b6df0b7d3a",
   "metadata": {},
   "outputs": [
    {
     "name": "stdout",
     "output_type": "stream",
     "text": [
      "Makefile  p4_only.p4  sim\n"
     ]
    }
   ],
   "source": [
    "cd p4\n",
    "ls"
   ]
  },
  {
   "cell_type": "markdown",
   "id": "f8ccc752-e446-4102-a0c1-de2668bb444e",
   "metadata": {},
   "source": [
    "### Step 3: P4 Experiments"
   ]
  },
  {
   "cell_type": "code",
   "execution_count": 7,
   "id": "6622fef6-3491-4a5f-9340-5eba739b9e66",
   "metadata": {},
   "outputs": [
    {
     "name": "stdout",
     "output_type": "stream",
     "text": [
      "#include <core.p4>\n",
      "#include <xsa.p4>\n",
      "\n",
      "// ****************************************************************************** //\n",
      "// *************************** H E A D E R S  *********************************** //\n",
      "// ****************************************************************************** //\n",
      "\n",
      "header ethernet_t {\n",
      "    bit<48> dstAddr;\n",
      "    bit<48> srcAddr;\n",
      "    bit<16> etherType;\n",
      "}\n",
      "\n",
      "// ****************************************************************************** //\n",
      "// ************************* S T R U C T U R E S  ******************************* //\n",
      "// ****************************************************************************** //\n",
      "\n",
      "// header structure\n",
      "struct headers {\n",
      "    ethernet_t ethernet;\n",
      "}\n",
      "\n",
      "struct smartnic_metadata {\n",
      "    bit<64> timestamp_ns;    // 64b timestamp (in nanoseconds). Set at packet arrival time.\n",
      "    bit<16> pid;             // 16b packet id used by platform (READ ONLY - DO NOT EDIT).\n",
      "    bit<3>  ingress_port;    // 3b ingress port (0:CMAC0, 1:CMAC1, 2:HOST0, 3:HOST1).\n",
      "    bit<3>  egress_port;     // 3b egress port  (0:CMAC0, 1:CMAC1, 2:HOST0, 3:HOST1).\n",
      "    bit<1>  truncate_enable; // reserved (tied to 0).\n",
      "    bit<16> truncate_length; // reserved (tied to 0).\n",
      "    bit<1>  rss_enable;      // reserved (tied to 0).\n",
      "    bit<12> rss_entropy;     // reserved (tied to 0).\n",
      "    bit<4>  drop_reason;     // reserved (tied to 0).\n",
      "    bit<32> scratch;         // reserved (tied to 0).\n",
      "}\n",
      "\n",
      "// ****************************************************************************** //\n",
      "// *************************** P A R S E R  ************************************* //\n",
      "// ****************************************************************************** //\n",
      "\n",
      "parser ParserImpl( packet_in packet,\n",
      "                   out headers hdr,\n",
      "                   inout smartnic_metadata sn_meta,\n",
      "                   inout standard_metadata_t smeta) {\n",
      "    state start {\n",
      "        transition parse_ethernet;\n",
      "    }\n",
      "\n",
      "    state parse_ethernet {\n",
      "        packet.extract(hdr.ethernet);\n",
      "        transition accept;\n",
      "    }\n",
      "}\n",
      "\n",
      "// ****************************************************************************** //\n",
      "// **************************  P R O C E S S I N G   **************************** //\n",
      "// ****************************************************************************** //\n",
      "\n",
      "control MatchActionImpl( inout headers hdr,\n",
      "                         inout smartnic_metadata sn_meta,\n",
      "                         inout standard_metadata_t smeta) {\n",
      "\n",
      "    action forwardPacket(bit<3> dest_port) {\n",
      "        sn_meta.egress_port = dest_port;\n",
      "    }\n",
      "    \n",
      "    action dropPacket() {\n",
      "        smeta.drop = 1;\n",
      "    }\n",
      "\n",
      "    table forward {\n",
      "        key     = { hdr.ethernet.dstAddr : lpm; }\n",
      "        actions = { forwardPacket; \n",
      "                    dropPacket;\n",
      "                    NoAction; }\n",
      "        size    = 128;\n",
      "        num_masks = 8;\n",
      "        default_action = NoAction;\n",
      "    }\n",
      "\n",
      "    apply {\n",
      "        if (smeta.parser_error != error.NoError) {\n",
      "            dropPacket();\n",
      "            return;\n",
      "        }\n",
      "        \n",
      "        if (hdr.ethernet.isValid()) {\n",
      "            sn_meta.rss_entropy = 9w0 ++ sn_meta.ingress_port;\n",
      "            sn_meta.rss_enable = 1w1;\n",
      "            forward.apply();\n",
      "        }\n",
      "        else\n",
      "            dropPacket();\n",
      "    }\n",
      "}\n",
      "\n",
      "// ****************************************************************************** //\n",
      "// ***************************  D E P A R S E R  ******************************** //\n",
      "// ****************************************************************************** //\n",
      "\n",
      "control DeparserImpl( packet_out packet,\n",
      "                      in headers hdr,\n",
      "                      inout smartnic_metadata sn_meta,\n",
      "                      inout standard_metadata_t smeta) {\n",
      "    apply {\n",
      "        packet.emit(hdr.ethernet);\n",
      "    }\n",
      "}\n",
      "\n",
      "// ****************************************************************************** //\n",
      "// *******************************  M A I N  ************************************ //\n",
      "// ****************************************************************************** //\n",
      "\n",
      "XilinxPipeline(\n",
      "    ParserImpl(), \n",
      "    MatchActionImpl(), \n",
      "    DeparserImpl()\n",
      ") main;\n"
     ]
    }
   ],
   "source": [
    "cat p4_only.p4"
   ]
  },
  {
   "cell_type": "code",
   "execution_count": 8,
   "id": "e953c75e-2cb4-46e8-930d-96c26d519cd6",
   "metadata": {},
   "outputs": [
    {
     "name": "stdout",
     "output_type": "stream",
     "text": [
      "#include <core.p4>\n",
      "#include <xsa.p4>\n",
      "\n",
      "// ****************************************************************************** //\n",
      "// *************************** H E A D E R S  *********************************** //\n",
      "// ****************************************************************************** //\n",
      "\n",
      "header ethernet_t {\n",
      "    bit<48> dstAddr;\n",
      "    bit<48> srcAddr;\n",
      "    bit<16> etherType;\n",
      "}\n",
      "\n",
      "//MODIFIED\n",
      "header ipv4_t {\n",
      "    bit<4> version;\n",
      "    bit<4> ihl;\n",
      "    bit<8> diffserv;\n",
      "    bit<16> totalLen;\n",
      "    bit<16> identification;\n",
      "    bit<3> flags;\n",
      "    bit<13> fragOffset;\n",
      "    bit<8> ttl;\n",
      "    bit<8> protocol;\n",
      "    bit<16> hdrChecksum;\n",
      "    bit<32> srcAddr;\n",
      "    bit<32> dstAddr;\n",
      "}\n",
      "\n",
      "\n",
      "\n",
      "// ****************************************************************************** //\n",
      "// ************************* S T R U C T U R E S  ******************************* //\n",
      "// ****************************************************************************** //\n",
      "\n",
      "// header structure\n",
      "struct headers {\n",
      "    ethernet_t ethernet;\n",
      "    //MODIFIED\n",
      "    ipv4_t ipv4;\n",
      "}\n",
      "\n",
      "struct smartnic_metadata {\n",
      "    bit<64> timestamp_ns;    // 64b timestamp (in nanoseconds). Set at packet arrival time.\n",
      "    bit<16> pid;             // 16b packet id used by platform (READ ONLY - DO NOT EDIT).\n",
      "    bit<4>  ingress_port;    // 4b ingress port\n",
      "                             // (0:CMAC0, 1:CMAC1, 2:PF0_VF2, 3:PF1_VF2, 4:PF0_VF1, 5:PF1_VF1, 6:PF0_VF0, 7:PF1_VF0, 8:PF0, 9:PF1)\n",
      "    bit<2>  egress_port;     // 2b egress port (0:PORT0, 1:PORT1, 2:HOST, 3:LOOPBACK).\n",
      "    bit<1>  truncate_enable; // 1b set to 1 to enable truncation of egress packet to 'truncate_length'.\n",
      "    bit<16> truncate_length; // 16b set to desired length of egress packet (used when 'truncate_enable' == 1).\n",
      "    bit<1>  rss_enable;      // 1b set to 1 to override open-nic-shell rss hash result with 'rss_entropy' value.\n",
      "    bit<12> rss_entropy;     // 12b set to rss_entropy hash value (used for open-nic-shell qdma qid selection).\n",
      "    bit<4>  drop_reason;     // reserved (tied to 0).\n",
      "    bit<32> scratch;         // reserved (tied to 0).\n",
      "}\n",
      "\n",
      "// ****************************************************************************** //\n",
      "// *************************** P A R S E R  ************************************* //\n",
      "// ****************************************************************************** //\n",
      "\n",
      "parser ParserImpl( packet_in packet,\n",
      "                   out headers hdr,\n",
      "                   inout smartnic_metadata sn_meta,\n",
      "                   inout standard_metadata_t smeta) {\n",
      "    state start {\n",
      "        transition parse_ethernet;\n",
      "    }\n",
      "\n",
      "    //MODIFIED\n",
      "    state parse_ethernet {\n",
      "        packet.extract(hdr.ethernet);\n",
      "        transition select(hdr.ethernet.etherType) {\n",
      "            0x0800: parse_ipv4;\n",
      "            default: accept;\n",
      "        }\n",
      "    }\n",
      "\n",
      "    state parse_ipv4 {\n",
      "        packet.extract(hdr.ipv4);\n",
      "        transition accept;\n",
      "    }\n",
      "}\n",
      "\n",
      "// ****************************************************************************** //\n",
      "// **************************  P R O C E S S I N G   **************************** //\n",
      "// ****************************************************************************** //\n",
      "\n",
      "control MatchActionImpl( inout headers hdr,\n",
      "                         inout smartnic_metadata sn_meta,\n",
      "                         inout standard_metadata_t smeta) {\n",
      "\n",
      "    action forwardPacket(bit<2> dest_port) {\n",
      "        sn_meta.egress_port = dest_port;\n",
      "    }\n",
      "    \n",
      "    action dropPacket() {\n",
      "        smeta.drop = 1;\n",
      "    }\n",
      "\n",
      "    table forward {\n",
      "        key     = { hdr.ethernet.dstAddr : lpm; }\n",
      "        actions = { forwardPacket; \n",
      "                    dropPacket;\n",
      "                    NoAction; }\n",
      "        size    = 128;\n",
      "        num_masks = 8;\n",
      "        default_action = NoAction;\n",
      "    }\n",
      "\n",
      "    apply {\n",
      "        if (smeta.parser_error != error.NoError) {\n",
      "            dropPacket();\n",
      "            return;\n",
      "        }\n",
      "        //MODIFIED\n",
      "        if (hdr.ipv4.isValid()) {\n",
      "            if (hdr.ipv4.ttl == 1) {\n",
      "                dropPacket();\n",
      "                return;\n",
      "            } else {\n",
      "                hdr.ipv4.ttl = hdr.ipv4.ttl - 1;\n",
      "            }\n",
      "        }\n",
      "        if (hdr.ethernet.isValid()) {\n",
      "            sn_meta.rss_entropy = 12w0;\n",
      "            sn_meta.rss_enable = 1w0;\n",
      "            forward.apply();\n",
      "        }\n",
      "        else\n",
      "            dropPacket();\n",
      "    }\n",
      "}\n",
      "\n",
      "// ****************************************************************************** //\n",
      "// ***************************  D E P A R S E R  ******************************** //\n",
      "// ****************************************************************************** //\n",
      "\n",
      "control DeparserImpl( packet_out packet,\n",
      "                      in headers hdr,\n",
      "                      inout smartnic_metadata sn_meta,\n",
      "                      inout standard_metadata_t smeta) {\n",
      "    apply {\n",
      "        packet.emit(hdr.ethernet);\n",
      "        //MODIFIED\n",
      "        packet.emit(hdr.ipv4);\n",
      "    }\n",
      "}\n",
      "\n",
      "// ****************************************************************************** //\n",
      "// *******************************  M A I N  ************************************ //\n",
      "// ****************************************************************************** //\n",
      "\n",
      "XilinxPipeline(\n",
      "    ParserImpl(), \n",
      "    MatchActionImpl(), \n",
      "    DeparserImpl()\n",
      ") main;\n"
     ]
    }
   ],
   "source": [
    "cp ../../../../assets/p4_only.p4 .\n",
    "cat p4_only.p4"
   ]
  },
  {
   "cell_type": "code",
   "execution_count": 9,
   "id": "885359bd-fac5-4254-85b7-d328c97ab4c1",
   "metadata": {},
   "outputs": [],
   "source": [
    "source /tools/Xilinx/Vivado/2023.1/settings64.sh\n",
    "export XILINXD_LICENSE_FILE=2100@xilinxd.xilinx-dev"
   ]
  },
  {
   "cell_type": "code",
   "execution_count": 10,
   "id": "e3144b96-ce8b-4d57-be3a-ed50f5ef9102",
   "metadata": {},
   "outputs": [
    {
     "name": "stdout",
     "output_type": "stream",
     "text": [
      "% Packet 1 (188 bytes)\n",
      "% Ethernet header:[ DstMAC=111111111111 SrcMAC=aaaaaaaaaaaa EtherType=0800 ]\n",
      "00 80 c2 00 00 00 aa aa aa aa aa aa 08 00\n",
      "% IPv4 header:[ Version=4 HdrLen=f DSCP=32 ECN=1 Length=00ae ID=50fa Flags=0 Fragment=0000 TTL=b3 Protocol=11 Checksum=d386 SrcAddr=fd5f0bc8 DstAddr=9aaa2010 OptionNOP=01 OptionNOP=01 OptionNOP=01 OptionNOP=01 OptionNOP=01 OptionNOP=01 OptionNOP=01 OptionNOP=01 OptionNOP=01 OptionNOP=01 OptionNOP=01 OptionNOP=01 OptionNOP=01 OptionNOP=01 OptionNOP=01 OptionNOP=01 OptionNOP=01 OptionNOP=01 OptionNOP=01 OptionNOP=01 OptionNOP=01 OptionNOP=01 OptionNOP=01 OptionNOP=01 OptionNOP=01 OptionNOP=01 OptionNOP=01 OptionNOP=01 OptionNOP=01 OptionNOP=01 OptionNOP=01 OptionNOP=01 OptionNOP=01 OptionNOP=01 OptionNOP=01 OptionNOP=01 OptionNOP=01 OptionNOP=01 OptionNOP=01 OptionEND=00 ]\n",
      "4f c9 00 ae 50 fa 00 00 b3 11 d3 86 fd 5f 0b c8 9a aa 20 10 01 01 01 01 01 01 01 01 01 01 01 01 01 01 01 01 01 01 01 01 01 01 01 01 01 01 01 01 01 01 01 01 01 01 01 01 01 01 01 00 \n",
      "% UDP header:[ SrcPort=2411 DstPort=6cc1 Length=0072 Checksum=99c3 ]\n",
      "24 11 6c c1 00 72 99 c3 \n",
      "% Payload\n",
      "79 72 5b cf c6 6e 5f fa b9 2f 38 cb 50 39 30 91 91 98 27 88 ed fa be 03 08 b9 bf f3 d0 e9 c0 01 5b 13 ac 7e 62 9a 26 36 06 ae 5d 96 ec 71 2d a8 66 be 46 02 65 89 87 66 c1 9b ca c2 4b 89 19 ba 0e ed f4 af 84 d3 e4 3c 34 d6 da 25 1d 8f ad ff af e1 bb b9 37 4f 64 4b 06 a2 0e e9 36 5d c1 87 11 26 20 a6 0f c9 5b e5 4f fd \n",
      ";\n"
     ]
    }
   ],
   "source": [
    "cd sim\n",
    "head test-fwd-p0/packets_in.user"
   ]
  },
  {
   "cell_type": "code",
   "execution_count": 11,
   "id": "553c1bb5-17e0-4155-97f5-4a91b3943de6",
   "metadata": {},
   "outputs": [],
   "source": [
    "cp -r test-fwd-p0 test-fwd-p1\n",
    "sed -i 's/^P4BM_DIRS = test-fwd-p0$/P4BM_DIRS = test-fwd-p0 test-fwd-p1/' Makefile\n",
    "sed -i 's/^\\(P4BM_DIR = test-fwd-p0\\)/# \\1/' Makefile"
   ]
  },
  {
   "cell_type": "code",
   "execution_count": 12,
   "id": "131ecb40-31c7-4e2e-b0b6-b42da9529fae",
   "metadata": {},
   "outputs": [
    {
     "name": "stdout",
     "output_type": "stream",
     "text": [
      "XILINXD_LICENSE_FILE=2100@xilinxd.xilinx-dev\n"
     ]
    }
   ],
   "source": [
    "env | grep XILINXD_LICENSE_FILE"
   ]
  },
  {
   "cell_type": "code",
   "execution_count": 13,
   "id": "35386a89-b8c4-488c-be9a-421371e3c5b2",
   "metadata": {},
   "outputs": [
    {
     "name": "stdout",
     "output_type": "stream",
     "text": [
      "for d in test-fwd-p0 test-fwd-p1; do make P4BM_DIR=$d sim || exit 1; done\n",
      "make[1]: Entering directory '/home/coder/p4-smartnic-on-pod/esnet-smartnic-hw/examples/p4_only/p4/sim'\n",
      "p4c-vitisnet ../p4_only.p4 -o ../p4_only.json\n",
      "rlwrap: warning: your $TERM is 'xterm' but rlwrap couldn't find it in the terminfo database. Expect some problems.\n",
      "                                                                                \n",
      "(cd test-fwd-p0 && wc cli_commands.txt > /dev/null)\n",
      "(cd test-fwd-p0 && run-p4bm-vitisnet -l cli_commands.txt \\\n",
      "                                             -j ../../p4_only.json -s cli_commands.txt )\n",
      "WARNING: /tools/Xilinx/Vivado/2023.1/tps/lnx64/jre does not exist.\n",
      "WARNING: /tools/Xilinx/Vivado/2023.1/tps/lnx64/jre does not exist.\n",
      "make[1]: Leaving directory '/home/coder/p4-smartnic-on-pod/esnet-smartnic-hw/examples/p4_only/p4/sim'\n",
      "make[1]: Entering directory '/home/coder/p4-smartnic-on-pod/esnet-smartnic-hw/examples/p4_only/p4/sim'\n",
      "(cd test-fwd-p1 && wc cli_commands.txt > /dev/null)\n",
      "(cd test-fwd-p1 && run-p4bm-vitisnet -l cli_commands.txt \\\n",
      "                                             -j ../../p4_only.json -s cli_commands.txt )\n",
      "WARNING: /tools/Xilinx/Vivado/2023.1/tps/lnx64/jre does not exist.\n",
      "WARNING: /tools/Xilinx/Vivado/2023.1/tps/lnx64/jre does not exist.\n",
      "make[1]: Leaving directory '/home/coder/p4-smartnic-on-pod/esnet-smartnic-hw/examples/p4_only/p4/sim'\n",
      "cli_commands.txt\t    expected\t     packets_out.meta\n",
      "cli_commands.txt_cli.txt    packets_in.meta  packets_out.user\n",
      "cli_commands.txt_model.txt  packets_in.user  vitisnetp4_thrift.log\n"
     ]
    }
   ],
   "source": [
    "make\n",
    "ls test-fwd-p1"
   ]
  },
  {
   "cell_type": "code",
   "execution_count": 14,
   "id": "f2bc4bc3-93ca-4b72-a33b-49240b7cd422",
   "metadata": {},
   "outputs": [
    {
     "name": "stdout",
     "output_type": "stream",
     "text": [
      "% Packet 1 (188 bytes)\n",
      "% Ethernet header:[ DstMAC=111111111111 SrcMAC=aaaaaaaaaaaa EtherType=0800 ]\n",
      "00 80 c2 00 00 00 aa aa aa aa aa aa 08 00\n",
      "% IPv4 header:[ Version=4 HdrLen=f DSCP=32 ECN=1 Length=00ae ID=50fa Flags=0 Fragment=0000 TTL=b3 Protocol=11 Checksum=d386 SrcAddr=fd5f0bc8 DstAddr=9aaa2010 OptionNOP=01 OptionNOP=01 OptionNOP=01 OptionNOP=01 OptionNOP=01 OptionNOP=01 OptionNOP=01 OptionNOP=01 OptionNOP=01 OptionNOP=01 OptionNOP=01 OptionNOP=01 OptionNOP=01 OptionNOP=01 OptionNOP=01 OptionNOP=01 OptionNOP=01 OptionNOP=01 OptionNOP=01 OptionNOP=01 OptionNOP=01 OptionNOP=01 OptionNOP=01 OptionNOP=01 OptionNOP=01 OptionNOP=01 OptionNOP=01 OptionNOP=01 OptionNOP=01 OptionNOP=01 OptionNOP=01 OptionNOP=01 OptionNOP=01 OptionNOP=01 OptionNOP=01 OptionNOP=01 OptionNOP=01 OptionNOP=01 OptionNOP=01 OptionEND=00 ]\n",
      "4f c9 00 ae 50 fa 00 00 b3 11 d3 86 fd 5f 0b c8 9a aa 20 10 01 01 01 01 01 01 01 01 01 01 01 01 01 01 01 01 01 01 01 01 01 01 01 01 01 01 01 01 01 01 01 01 01 01 01 01 01 01 01 00 \n",
      "% UDP header:[ SrcPort=2411 DstPort=6cc1 Length=0072 Checksum=99c3 ]\n",
      "24 11 6c c1 00 72 99 c3 \n",
      "% Payload\n",
      "79 72 5b cf c6 6e 5f fa b9 2f 38 cb 50 39 30 91 91 98 27 88 ed fa be 03 08 b9 bf f3 d0 e9 c0 01 5b 13 ac 7e 62 9a 26 36 06 ae 5d 96 ec 71 2d a8 66 be 46 02 65 89 87 66 c1 9b ca c2 4b 89 19 ba 0e ed f4 af 84 d3 e4 3c 34 d6 da 25 1d 8f ad ff af e1 bb b9 37 4f 64 4b 06 a2 0e e9 36 5d c1 87 11 26 20 a6 0f c9 5b e5 4f fd \n",
      ";\n",
      "% Packet 1 (188 bytes)\n",
      "00 80 c2 00 00 00 aa aa aa aa aa aa 08 00 4f c9\n",
      "00 ae 50 fa 00 00 b2 11 d3 86 fd 5f 0b c8 9a aa\n",
      "20 10 01 01 01 01 01 01 01 01 01 01 01 01 01 01\n",
      "01 01 01 01 01 01 01 01 01 01 01 01 01 01 01 01\n",
      "01 01 01 01 01 01 01 01 01 00 24 11 6c c1 00 72\n",
      "99 c3 79 72 5b cf c6 6e 5f fa b9 2f 38 cb 50 39\n",
      "30 91 91 98 27 88 ed fa be 03 08 b9 bf f3 d0 e9\n",
      "c0 01 5b 13 ac 7e 62 9a 26 36 06 ae 5d 96 ec 71\n",
      "2d a8 66 be 46 02 65 89 87 66 c1 9b ca c2 4b 89\n"
     ]
    }
   ],
   "source": [
    "head test-fwd-p1/packets_in.user\n",
    "head test-fwd-p1/packets_out.user"
   ]
  },
  {
   "cell_type": "code",
   "execution_count": 15,
   "id": "e4eb62cb-dc45-4124-aec2-086731964ba3",
   "metadata": {},
   "outputs": [
    {
     "name": "stdout",
     "output_type": "stream",
     "text": [
      "WARNING: MAC address to reach destination not found. Using broadcast.\n",
      "WARNING: MAC address to reach destination not found. Using broadcast.\n",
      "WARNING: more MAC address to reach destination not found. Using broadcast.\n",
      "WARNING: MAC address to reach destination not found. Using broadcast.\n",
      "WARNING: MAC address to reach destination not found. Using broadcast.\n",
      "WARNING: more MAC address to reach destination not found. Using broadcast.\n",
      "WARNING: MAC address to reach destination not found. Using broadcast.\n",
      "WARNING: MAC address to reach destination not found. Using broadcast.\n",
      "WARNING: more MAC address to reach destination not found. Using broadcast.\n",
      "WARNING: MAC address to reach destination not found. Using broadcast.\n",
      "PCAP file 'test-fwd-p1/packets_in.pcap' created with 10 Ethernet+IPv4 packets, TTLs 1-10\n"
     ]
    }
   ],
   "source": [
    "python3 - <<EOF\n",
    "from scapy.all import Ether, IP, wrpcap\n",
    "\n",
    "# Generate 10 IPv4 packets with TTL values 1 to 10\n",
    "packets = [Ether() / IP(dst=\"192.168.1.1\", ttl=ttl) for ttl in range(1, 11)]\n",
    "\n",
    "# Save the packets to the specified pcap file\n",
    "wrpcap(\"test-fwd-p1/packets_in.pcap\", packets)\n",
    "\n",
    "print(\"PCAP file 'test-fwd-p1/packets_in.pcap' created with 10 Ethernet+IPv4 packets, TTLs 1-10\")\n",
    "EOF"
   ]
  },
  {
   "cell_type": "code",
   "execution_count": 16,
   "id": "043663d6-0186-4206-a462-1b3dbc8fa9fc",
   "metadata": {},
   "outputs": [
    {
     "name": "stdout",
     "output_type": "stream",
     "text": [
      "for d in test-fwd-p0 test-fwd-p1; do make P4BM_DIR=$d cleansim; done\n",
      "make[1]: Entering directory '/home/coder/p4-smartnic-on-pod/esnet-smartnic-hw/examples/p4_only/p4/sim'\n",
      "cd test-fwd-p0 && rm -f cli_commands.txt_cli.txt cli_commands.txt_model.txt packets_out.meta packets_out.pcap packets_out.user\n",
      "make[1]: Leaving directory '/home/coder/p4-smartnic-on-pod/esnet-smartnic-hw/examples/p4_only/p4/sim'\n",
      "make[1]: Entering directory '/home/coder/p4-smartnic-on-pod/esnet-smartnic-hw/examples/p4_only/p4/sim'\n",
      "cd test-fwd-p1 && rm -f cli_commands.txt_cli.txt cli_commands.txt_model.txt packets_out.meta packets_out.pcap packets_out.user\n",
      "make[1]: Leaving directory '/home/coder/p4-smartnic-on-pod/esnet-smartnic-hw/examples/p4_only/p4/sim'\n",
      "rm -f ../p4_only.json\n",
      "cli_commands.txt  packets_in.meta  vitisnetp4_thrift.log\n",
      "expected\t  packets_in.pcap\n"
     ]
    }
   ],
   "source": [
    "make clean\n",
    "rm -rf test-fwd-p1/packets_in.user\n",
    "ls test-fwd-p1"
   ]
  },
  {
   "cell_type": "code",
   "execution_count": 17,
   "id": "81d4441a-9f29-47e7-a9cb-73a29fb98c65",
   "metadata": {},
   "outputs": [
    {
     "name": "stdout",
     "output_type": "stream",
     "text": [
      "    1\t  0.000000\t     0.0.0.0\t→\t192.168.1.1 \tIPv4\t34\t\n",
      "    2\t  0.000188\t     0.0.0.0\t→\t192.168.1.1 \tIPv4\t34\t\n",
      "    3\t  0.000290\t     0.0.0.0\t→\t192.168.1.1 \tIPv4\t34\t\n",
      "    4\t  0.000387\t     0.0.0.0\t→\t192.168.1.1 \tIPv4\t34\t\n",
      "    5\t  0.000484\t     0.0.0.0\t→\t192.168.1.1 \tIPv4\t34\t\n",
      "    6\t  0.000580\t     0.0.0.0\t→\t192.168.1.1 \tIPv4\t34\t\n",
      "    7\t  0.000677\t     0.0.0.0\t→\t192.168.1.1 \tIPv4\t34\t\n",
      "    8\t  0.000778\t     0.0.0.0\t→\t192.168.1.1 \tIPv4\t34\t\n",
      "    9\t  0.000875\t     0.0.0.0\t→\t192.168.1.1 \tIPv4\t34\t\n",
      "   10\t  0.000975\t     0.0.0.0\t→\t192.168.1.1 \tIPv4\t34\t\n"
     ]
    }
   ],
   "source": [
    "tshark -r test-fwd-p1/packets_in.pcap -T tabs"
   ]
  },
  {
   "cell_type": "code",
   "execution_count": 18,
   "id": "6c82f1b5-da3d-459d-bafa-31cd43e8d8f9",
   "metadata": {},
   "outputs": [
    {
     "name": "stdout",
     "output_type": "stream",
     "text": [
      "for d in test-fwd-p0 test-fwd-p1; do make P4BM_DIR=$d sim || exit 1; done\n",
      "make[1]: Entering directory '/home/coder/p4-smartnic-on-pod/esnet-smartnic-hw/examples/p4_only/p4/sim'\n",
      "p4c-vitisnet ../p4_only.p4 -o ../p4_only.json\n",
      "rlwrap: warning: your $TERM is 'xterm' but rlwrap couldn't find it in the terminfo database. Expect some problems.\n",
      "                                                                                \n",
      "(cd test-fwd-p0 && wc cli_commands.txt > /dev/null)\n",
      "(cd test-fwd-p0 && run-p4bm-vitisnet -l cli_commands.txt \\\n",
      "                                             -j ../../p4_only.json -s cli_commands.txt )\n",
      "WARNING: /tools/Xilinx/Vivado/2023.1/tps/lnx64/jre does not exist.\n",
      "WARNING: /tools/Xilinx/Vivado/2023.1/tps/lnx64/jre does not exist.\n",
      "make[1]: Leaving directory '/home/coder/p4-smartnic-on-pod/esnet-smartnic-hw/examples/p4_only/p4/sim'\n",
      "make[1]: Entering directory '/home/coder/p4-smartnic-on-pod/esnet-smartnic-hw/examples/p4_only/p4/sim'\n",
      "(cd test-fwd-p1 && wc cli_commands.txt > /dev/null)\n",
      "(cd test-fwd-p1 && run-p4bm-vitisnet -l cli_commands.txt \\\n",
      "                                             -j ../../p4_only.json -s cli_commands.txt )\n",
      "WARNING: /tools/Xilinx/Vivado/2023.1/tps/lnx64/jre does not exist.\n",
      "WARNING: /tools/Xilinx/Vivado/2023.1/tps/lnx64/jre does not exist.\n",
      "make[1]: Leaving directory '/home/coder/p4-smartnic-on-pod/esnet-smartnic-hw/examples/p4_only/p4/sim'\n",
      "    1\t  0.000000\t     0.0.0.0\t→\t192.168.1.1 \tIPv4\t34\t\n",
      "    2\t  0.000188\t     0.0.0.0\t→\t192.168.1.1 \tIPv4\t34\t\n",
      "    3\t  0.000290\t     0.0.0.0\t→\t192.168.1.1 \tIPv4\t34\t\n",
      "    4\t  0.000387\t     0.0.0.0\t→\t192.168.1.1 \tIPv4\t34\t\n",
      "    5\t  0.000484\t     0.0.0.0\t→\t192.168.1.1 \tIPv4\t34\t\n",
      "    6\t  0.000580\t     0.0.0.0\t→\t192.168.1.1 \tIPv4\t34\t\n",
      "    7\t  0.000677\t     0.0.0.0\t→\t192.168.1.1 \tIPv4\t34\t\n",
      "    8\t  0.000778\t     0.0.0.0\t→\t192.168.1.1 \tIPv4\t34\t\n",
      "    9\t  0.000875\t     0.0.0.0\t→\t192.168.1.1 \tIPv4\t34\t\n",
      "   10\t  0.000975\t     0.0.0.0\t→\t192.168.1.1 \tIPv4\t34\t\n",
      "1\n",
      "2\n",
      "3\n",
      "4\n",
      "5\n",
      "6\n",
      "7\n",
      "8\n",
      "9\n",
      "10\n"
     ]
    }
   ],
   "source": [
    "make\n",
    "tshark -r test-fwd-p1/packets_in.pcap -T tabs\n",
    "tshark -r test-fwd-p1/packets_in.pcap -T fields -e ip.ttl"
   ]
  },
  {
   "cell_type": "code",
   "execution_count": 19,
   "id": "3603d182-551c-448e-ac96-e36c73d11299",
   "metadata": {},
   "outputs": [
    {
     "name": "stdout",
     "output_type": "stream",
     "text": [
      "    1\t  0.000000\t     0.0.0.0\t→\t192.168.1.1 \tIPv4\t34\t\n",
      "    2\t  0.000478\t     0.0.0.0\t→\t192.168.1.1 \tIPv4\t34\t\n",
      "    3\t  0.000913\t     0.0.0.0\t→\t192.168.1.1 \tIPv4\t34\t\n",
      "    4\t  0.001347\t     0.0.0.0\t→\t192.168.1.1 \tIPv4\t34\t\n",
      "    5\t  0.001807\t     0.0.0.0\t→\t192.168.1.1 \tIPv4\t34\t\n",
      "    6\t  0.002268\t     0.0.0.0\t→\t192.168.1.1 \tIPv4\t34\t\n",
      "    7\t  0.002718\t     0.0.0.0\t→\t192.168.1.1 \tIPv4\t34\t\n",
      "    8\t  0.003164\t     0.0.0.0\t→\t192.168.1.1 \tIPv4\t34\t\n",
      "    9\t  0.003595\t     0.0.0.0\t→\t192.168.1.1 \tIPv4\t34\t\n",
      "1\n",
      "2\n",
      "3\n",
      "4\n",
      "5\n",
      "6\n",
      "7\n",
      "8\n",
      "9\n"
     ]
    }
   ],
   "source": [
    "tshark -r test-fwd-p1/packets_out.pcap -T tabs\n",
    "tshark -r test-fwd-p1/packets_out.pcap -T fields -e ip.ttl"
   ]
  },
  {
   "cell_type": "markdown",
   "id": "f084b55e-b55d-44b7-85f1-7656c58e8894",
   "metadata": {},
   "source": [
    "### Step 4: Control Plane Table Entries"
   ]
  },
  {
   "cell_type": "code",
   "execution_count": 20,
   "id": "26e547ab-3f3f-43b3-b700-7dad29dd7854",
   "metadata": {},
   "outputs": [
    {
     "name": "stdout",
     "output_type": "stream",
     "text": [
      "smartnic_metadata.timestamp_ns=1 smartnic_metadata.egress_port=3;\n",
      "smartnic_metadata.timestamp_ns=2 smartnic_metadata.egress_port=3;\n",
      "smartnic_metadata.timestamp_ns=3 smartnic_metadata.egress_port=3;\n",
      "smartnic_metadata.timestamp_ns=4 smartnic_metadata.egress_port=3;\n",
      "smartnic_metadata.timestamp_ns=5 smartnic_metadata.egress_port=3;\n",
      "smartnic_metadata.timestamp_ns=6 smartnic_metadata.egress_port=3;\n",
      "smartnic_metadata.timestamp_ns=7 smartnic_metadata.egress_port=3;\n",
      "smartnic_metadata.timestamp_ns=8 smartnic_metadata.egress_port=3;\n"
     ]
    }
   ],
   "source": [
    "cat test-fwd-p1/packets_in.meta"
   ]
  },
  {
   "cell_type": "code",
   "execution_count": 21,
   "id": "e6c393dd-c2cc-4c82-ad56-83d76c17ec4e",
   "metadata": {},
   "outputs": [
    {
     "name": "stdout",
     "output_type": "stream",
     "text": [
      "smartnic_metadata.timestamp_ns=0000000000000002 smartnic_metadata.pid=0000 smartnic_metadata.ingress_port=00 smartnic_metadata.egress_port=03 smartnic_metadata.truncate_enable=00 smartnic_metadata.truncate_length=0000 smartnic_metadata.rss_enable=00 smartnic_metadata.rss_entropy=0000 smartnic_metadata.drop_reason=00 smartnic_metadata.scratch=00000000 ;\n",
      "smartnic_metadata.timestamp_ns=0000000000000003 smartnic_metadata.pid=0000 smartnic_metadata.ingress_port=00 smartnic_metadata.egress_port=03 smartnic_metadata.truncate_enable=00 smartnic_metadata.truncate_length=0000 smartnic_metadata.rss_enable=00 smartnic_metadata.rss_entropy=0000 smartnic_metadata.drop_reason=00 smartnic_metadata.scratch=00000000 ;\n",
      "smartnic_metadata.timestamp_ns=0000000000000004 smartnic_metadata.pid=0000 smartnic_metadata.ingress_port=00 smartnic_metadata.egress_port=03 smartnic_metadata.truncate_enable=00 smartnic_metadata.truncate_length=0000 smartnic_metadata.rss_enable=00 smartnic_metadata.rss_entropy=0000 smartnic_metadata.drop_reason=00 smartnic_metadata.scratch=00000000 ;\n",
      "smartnic_metadata.timestamp_ns=0000000000000005 smartnic_metadata.pid=0000 smartnic_metadata.ingress_port=00 smartnic_metadata.egress_port=03 smartnic_metadata.truncate_enable=00 smartnic_metadata.truncate_length=0000 smartnic_metadata.rss_enable=00 smartnic_metadata.rss_entropy=0000 smartnic_metadata.drop_reason=00 smartnic_metadata.scratch=00000000 ;\n",
      "smartnic_metadata.timestamp_ns=0000000000000006 smartnic_metadata.pid=0000 smartnic_metadata.ingress_port=00 smartnic_metadata.egress_port=03 smartnic_metadata.truncate_enable=00 smartnic_metadata.truncate_length=0000 smartnic_metadata.rss_enable=00 smartnic_metadata.rss_entropy=0000 smartnic_metadata.drop_reason=00 smartnic_metadata.scratch=00000000 ;\n",
      "smartnic_metadata.timestamp_ns=0000000000000007 smartnic_metadata.pid=0000 smartnic_metadata.ingress_port=00 smartnic_metadata.egress_port=03 smartnic_metadata.truncate_enable=00 smartnic_metadata.truncate_length=0000 smartnic_metadata.rss_enable=00 smartnic_metadata.rss_entropy=0000 smartnic_metadata.drop_reason=00 smartnic_metadata.scratch=00000000 ;\n",
      "smartnic_metadata.timestamp_ns=0000000000000008 smartnic_metadata.pid=0000 smartnic_metadata.ingress_port=00 smartnic_metadata.egress_port=03 smartnic_metadata.truncate_enable=00 smartnic_metadata.truncate_length=0000 smartnic_metadata.rss_enable=00 smartnic_metadata.rss_entropy=0000 smartnic_metadata.drop_reason=00 smartnic_metadata.scratch=00000000 ;\n",
      "smartnic_metadata.timestamp_ns=0000000000000000 smartnic_metadata.pid=0000 smartnic_metadata.ingress_port=00 smartnic_metadata.egress_port=00 smartnic_metadata.truncate_enable=00 smartnic_metadata.truncate_length=0000 smartnic_metadata.rss_enable=00 smartnic_metadata.rss_entropy=0000 smartnic_metadata.drop_reason=00 smartnic_metadata.scratch=00000000 ;\n",
      "smartnic_metadata.timestamp_ns=0000000000000000 smartnic_metadata.pid=0000 smartnic_metadata.ingress_port=00 smartnic_metadata.egress_port=00 smartnic_metadata.truncate_enable=00 smartnic_metadata.truncate_length=0000 smartnic_metadata.rss_enable=00 smartnic_metadata.rss_entropy=0000 smartnic_metadata.drop_reason=00 smartnic_metadata.scratch=00000000 ;\n"
     ]
    }
   ],
   "source": [
    "cat test-fwd-p1/packets_out.meta"
   ]
  },
  {
   "cell_type": "markdown",
   "id": "abff3211-cf0d-463e-8ce0-3cb1a2eb2285",
   "metadata": {},
   "source": [
    "---\n",
    "---\n",
    "---\n",
    "Now we reach the end of writing a P4 program and testing it against custom PCAP files.\n",
    "In the next notebook, we will be building the artifacts from the P4 logic."
   ]
  },
  {
   "cell_type": "markdown",
   "id": "5462756e-c972-42d4-8e49-00020b37d724",
   "metadata": {},
   "source": [
    "---\n",
    "This notebook is part 1 out of 3 in the **ESnet SmartNIC Tutorial on NRP** series.\n",
    "\n",
    "This was last modified on March 4th, 2025.\n",
    "\n",
    "For any inquiries, questions, feedback, please contact: mfsada@ucsd.edu"
   ]
  }
 ],
 "metadata": {
  "kernelspec": {
   "display_name": "Bash",
   "language": "bash",
   "name": "bash"
  },
  "language_info": {
   "codemirror_mode": "shell",
   "file_extension": ".sh",
   "mimetype": "text/x-sh",
   "name": "bash"
  }
 },
 "nbformat": 4,
 "nbformat_minor": 5
}
