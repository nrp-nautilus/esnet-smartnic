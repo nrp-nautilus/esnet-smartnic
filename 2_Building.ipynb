{
 "cells": [
  {
   "cell_type": "markdown",
   "id": "d1ec4cfa-7021-4ead-bd14-1db7b86eaa32",
   "metadata": {},
   "source": [
    "## Building (Notebook 1/3): Building Artifacts & Bitstream from P4 Logic\n",
    "\n",
    "This notebook is **Part 2** of the **ESnet SmartNIC Tutorial on NRP** series. It continues from **Notebook 1** to provide an example for building the FPGA logic from our SmartNIC P4 code.\n",
    "\n",
    "---\n",
    "\n",
    "### Test Environment\n",
    "\n",
    "This notebook was tested on the **National Research Platform (NRP)** using the **AMD/Xilinx Alveo U55C FPGA** and **Vivado 2023.1**. The Kubernetes pods were provisioned by [Coder](https://coder.nrp-nautilus.io).\n",
    "\n",
    "If you run into any issues, please refer to the official [NRP Documentation](https://docs.nrp.ai), or reach out to us via [Matrix](https://element.nrp-nautilus.io) or [email](mailto:support@nationalresearchplatform.org).\n",
    "\n",
    "Before using the ESnet SmartNIC tools, kindly review the official [ESnet SmartNIC Copyright Notice](https://github.com/esnet/esnet-smartnic-hw).\n",
    "\n",
    "---"
   ]
  },
  {
   "cell_type": "markdown",
   "id": "ee7a823a-789e-4ca8-be66-9e1c261cc772",
   "metadata": {},
   "source": [
    "### Step 1: Set up environment"
   ]
  },
  {
   "cell_type": "markdown",
   "id": "4368de1e-09b5-4da5-acc3-5c119679f0fe",
   "metadata": {},
   "source": [
    "**Do not remove pre-existing files. We will be continuing from where we left off with Notebook 1.**"
   ]
  },
  {
   "cell_type": "code",
   "execution_count": null,
   "id": "51939e05-4262-4bd8-bff4-d20fc231569b",
   "metadata": {
    "scrolled": true
   },
   "outputs": [],
   "source": [
    "echo \"$BASH_VERSION\""
   ]
  },
  {
   "cell_type": "markdown",
   "id": "4e52666f-a416-418e-87c1-84e69df7a35d",
   "metadata": {},
   "source": [
    "If the above command doesn't show a bash version, **you may be running with a Python kernel. Please switch to a Bash kernel.**"
   ]
  },
  {
   "cell_type": "code",
   "execution_count": null,
   "id": "9e818fc0-bf74-4832-b6e6-aee55ecef844",
   "metadata": {},
   "outputs": [],
   "source": [
    "cd ~/esnet-smartnic/esnet-smartnic-hw/examples/p4_only\n",
    "ls"
   ]
  },
  {
   "cell_type": "markdown",
   "id": "6403167e-8af5-4113-8a6f-260d5d47207b",
   "metadata": {},
   "source": [
    "Clone the `esnet-smartnic-hw` repository from ESnet.\n",
    "Checkout at the latest tested commit."
   ]
  },
  {
   "cell_type": "markdown",
   "id": "b23c2bb6-7577-4851-9edc-97903d3b0360",
   "metadata": {},
   "source": [
    "### Step 2: Configure the Makefile"
   ]
  },
  {
   "cell_type": "code",
   "execution_count": null,
   "id": "9cbf7735-3ad3-42c3-a0aa-f095f8ce55a8",
   "metadata": {},
   "outputs": [],
   "source": [
    "cat Makefile"
   ]
  },
  {
   "cell_type": "code",
   "execution_count": null,
   "id": "335771ed-c9d7-47dc-bb83-3dc43bb60e0c",
   "metadata": {},
   "outputs": [],
   "source": [
    "sed -i 's/^#export BOARD := au280/export BOARD := au55c/' Makefile"
   ]
  },
  {
   "cell_type": "code",
   "execution_count": null,
   "id": "2818eb14-2b2a-4523-8298-445ce902452f",
   "metadata": {},
   "outputs": [],
   "source": [
    "cat Makefile | grep -i BOARD"
   ]
  },
  {
   "cell_type": "markdown",
   "id": "5dc740d2-714d-4f9b-953b-40691dad06d6",
   "metadata": {},
   "source": [
    "### Step 3: Build the artifacts"
   ]
  },
  {
   "cell_type": "markdown",
   "id": "8a916142-c046-4cb6-9b4f-f586efbc0626",
   "metadata": {},
   "source": [
    "Make sure that Vivado 2023.1 is used. (The versioning depends on the commit of the repo that we use.)"
   ]
  },
  {
   "cell_type": "markdown",
   "id": "477f15e5-5c4b-4a72-9a77-4fb163cb7c33",
   "metadata": {},
   "source": [
    "Make sure that the license server is correctly pointed to by pointing `XILINXD_LICENSE_FILE` to `2100@xilinxd.xilinx-dev`.\n",
    "\n",
    "This service is consistent across the Nautilus cluster.\n",
    "`2100` is the port on the license server pod where the server runs.\n",
    "`xilinxd` is the name of the service\n",
    "`xilinx-dev` is the name of the namespace\n",
    "\n",
    "You can always test the license by going on the `noVNC` Desktop, and running the `source` command, then running `vlm`. This will bring up the **Vivado License Manager.**"
   ]
  },
  {
   "cell_type": "code",
   "execution_count": null,
   "id": "b3199dee-5871-443c-a49f-8de68282745b",
   "metadata": {},
   "outputs": [],
   "source": [
    "source /tools/Xilinx/Vivado/2023.1/settings64.sh\n",
    "export XILINXD_LICENSE_FILE=2100@xilinxd.xilinx-dev"
   ]
  },
  {
   "cell_type": "markdown",
   "id": "94359f71-9987-4802-96c2-14a034766128",
   "metadata": {},
   "source": [
    "**Please read carefully:**\n",
    "\n",
    "The `make` command will start the process of compiling the logic from P4 to the packaged artifacts (zip archive containing the bitstream and other relevant files). This process involves various steps like synthesis, implementation, and exporting hardware. This takes on average **5 hours*. There are multiple factors that affect the time including **the memory requested for the pod**, and **the current speed and health of the filesystem that hosts the Xilinx tools.**\n",
    "\n",
    "When not comfortable running the `make` command directly in Jupyter, one has various ways of running the command, including:\n",
    "\n",
    "<span style=\"color: green;\">**1- In a noVNC terminal window (on XFCE terminal).**</span>\n",
    "\n",
    "2- Directly in the Jupyter notebook.\n",
    "\n",
    "3- In the Jupyter Bash terminal.\n",
    "\n",
    "4- In the Coder terminal window.\n",
    "\n",
    "5- Inside VSCode.\n",
    "\n",
    "6- Using `ssh` from the `coder cli`.\n",
    "\n",
    "<span style=\"color: red;\">7- Using the `kubectl exec` command.</span>"
   ]
  },
  {
   "cell_type": "markdown",
   "id": "5f742f76-51c3-42ec-9b48-7394c8b16264",
   "metadata": {},
   "source": [
    "For the sake of demonstration, we are simply going to use `make`. However, if the notebook, kernel and/or command gets interrupted."
   ]
  },
  {
   "cell_type": "code",
   "execution_count": null,
   "id": "2f84874e-5cd9-4232-9acc-84f87af56122",
   "metadata": {},
   "outputs": [],
   "source": [
    "#make"
   ]
  },
  {
   "cell_type": "markdown",
   "id": "7a56dd57-516b-4dc0-80ae-198c0d05d3d2",
   "metadata": {},
   "source": [
    "Considering how long the logs are, we recommend running `make > building.logs`."
   ]
  },
  {
   "cell_type": "markdown",
   "id": "0502fd60-77af-49ee-b1e8-3b93912d91ae",
   "metadata": {},
   "source": [
    "After the command finished, you will see the artifacts in `artifacts/p4_only.."
   ]
  },
  {
   "cell_type": "markdown",
   "id": "abff3211-cf0d-463e-8ce0-3cb1a2eb2285",
   "metadata": {},
   "source": [
    "---\n",
    "---\n",
    "---\n",
    "Now we reach the end of writing building the artifacts from the P4 logic."
   ]
  },
  {
   "cell_type": "markdown",
   "id": "5462756e-c972-42d4-8e49-00020b37d724",
   "metadata": {},
   "source": [
    "---\n",
    "This notebook is part 2 out of 3 in the **ESnet SmartNIC Tutorial on NRP** series.\n",
    "\n",
    "This was last modified on March 4th, 2025.\n",
    "\n",
    "For any inquiries, questions, feedback, please contact: mfsada@ucsd.edu"
   ]
  },
  {
   "cell_type": "code",
   "execution_count": null,
   "id": "633ba642-f831-401c-b048-f7f63e758f31",
   "metadata": {},
   "outputs": [],
   "source": []
  }
 ],
 "metadata": {
  "kernelspec": {
   "display_name": "Bash",
   "language": "bash",
   "name": "bash"
  },
  "language_info": {
   "codemirror_mode": "shell",
   "file_extension": ".sh",
   "mimetype": "text/x-sh",
   "name": "bash"
  }
 },
 "nbformat": 4,
 "nbformat_minor": 5
}
